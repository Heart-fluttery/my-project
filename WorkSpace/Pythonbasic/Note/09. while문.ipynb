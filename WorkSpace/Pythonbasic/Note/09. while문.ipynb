{
 "cells": [
  {
   "cell_type": "markdown",
   "id": "722c71e6",
   "metadata": {},
   "source": [
    "### while"
   ]
  },
  {
   "cell_type": "code",
   "execution_count": 2,
   "id": "66d5cb24",
   "metadata": {},
   "outputs": [
    {
     "name": "stdout",
     "output_type": "stream",
     "text": [
      "나무를 1번 찍었습니다잉.\n",
      "나무를 2번 찍었습니다잉.\n",
      "나무를 3번 찍었습니다잉.\n",
      "나무를 4번 찍었습니다잉.\n",
      "나무를 5번 찍었습니다잉.\n",
      "나무를 6번 찍었습니다잉.\n",
      "나무를 7번 찍었습니다잉.\n",
      "나무를 8번 찍었습니다잉.\n",
      "나무를 9번 찍었습니다잉.\n",
      "나무를 10번 찍었습니다잉.\n",
      "나무 넘어간다잉\n"
     ]
    }
   ],
   "source": [
    "# 10번 찍어 안 넘어가는 나무 없다.\n",
    "\n",
    "treeHit = 0\n",
    "\n",
    "while treeHit < 10:\n",
    "    treeHit += 1\n",
    "    print(f\"나무를 {treeHit}번 찍었습니다잉.\")\n",
    "    if treeHit == 10:\n",
    "        print(\"나무 넘어간다잉\")"
   ]
  },
  {
   "cell_type": "code",
   "execution_count": 3,
   "id": "0971afe4",
   "metadata": {},
   "outputs": [
    {
     "name": "stdout",
     "output_type": "stream",
     "text": [
      "0\n",
      "1\n",
      "2\n",
      "3\n",
      "4\n"
     ]
    }
   ],
   "source": [
    "# break\n",
    "var = 0\n",
    "\n",
    "while var < 10:\n",
    "    print(var)\n",
    "    var += 1\n",
    "    if var == 5:\n",
    "        break"
   ]
  },
  {
   "cell_type": "code",
   "execution_count": null,
   "id": "69c5f81c",
   "metadata": {},
   "outputs": [
    {
     "name": "stdout",
     "output_type": "stream",
     "text": [
      "1\n",
      "2\n",
      "3\n",
      "4\n",
      "6\n",
      "7\n",
      "8\n",
      "9\n",
      "10\n"
     ]
    }
   ],
   "source": [
    "# continue\n",
    "var = 0\n",
    "\n",
    "while var < 10:\n",
    "    var += 1\n",
    "    if var == 5:\n",
    "        continue # 여기서 다시 위로 보냄\n",
    "    print(var)"
   ]
  },
  {
   "cell_type": "markdown",
   "id": "84130283",
   "metadata": {},
   "source": [
    "### Ex\n",
    "continue문을 사용하여 1에서 10까지의 수 중 홀수만 출력하기"
   ]
  },
  {
   "cell_type": "code",
   "execution_count": 9,
   "id": "464e4a00",
   "metadata": {},
   "outputs": [
    {
     "name": "stdout",
     "output_type": "stream",
     "text": [
      "1\n",
      "3\n",
      "5\n",
      "7\n",
      "9\n"
     ]
    }
   ],
   "source": [
    "var = 0\n",
    "\n",
    "while var < 10:\n",
    "    var += 1\n",
    "    if var % 2 == 0:\n",
    "        continue\n",
    "    print(var)"
   ]
  },
  {
   "cell_type": "markdown",
   "id": "91e4e2a4",
   "metadata": {},
   "source": [
    "### Ex\n",
    "- 5번만 커피를 제공하는 자판기 입니다.\n",
    "- 금액은 300원 입니다.\n",
    "- 사용자가 300원보다 큰 금액을 입력하면 잔돈을 줍니다.\n",
    "- 사용자가 300원보다 작은 금액을 입력하면 돈은 돌려주고 커피를 주지 않으며 남은 커피의 횟수를 보여 줍니다.\n",
    "- 커피를 5번 다 팔았을 경우에는 판매를 중지한다는 메세지를 줍니다."
   ]
  },
  {
   "cell_type": "code",
   "execution_count": 10,
   "id": "5cd7031e",
   "metadata": {},
   "outputs": [
    {
     "name": "stdout",
     "output_type": "stream",
     "text": [
      "환영합니다. 커피 금액은 300원이며 5잔 남았습니다.\n",
      "주문하신 커피 나왔습니다. 남은 커피 : 4잔 | 잔돈 : 0\n",
      "주문하신 커피 나왔습니다. 남은 커피 : 3잔 | 잔돈 : 100\n",
      "주문하신 커피 나왔습니다. 남은 커피 : 2잔 | 잔돈 : 200\n",
      "주문하신 커피 나왔습니다. 남은 커피 : 1잔 | 잔돈 : 300\n",
      "주문하신 커피 나왔습니다. 남은 커피 : 0잔 | 잔돈 : 400\n",
      "커피가 품절되었습니다\n"
     ]
    }
   ],
   "source": [
    "coffe_count = 5\n",
    "return_money = 0\n",
    "\n",
    "print(f\"환영합니다. 커피 금액은 300원이며 {coffe_count}잔 남았습니다.\")\n",
    "while(coffe_count):\n",
    "    input_money = int(input(\"넣을 금액을 입력해 주세요\"))\n",
    "    if input_money >= 300: \n",
    "        coffe_count -= 1\n",
    "        return_money = input_money - 300\n",
    "        print(f\"주문하신 커피 나왔습니다. 남은 커피 : {coffe_count}잔 | 잔돈 : {return_money}\")\n",
    "    elif 0 <= input_money < 300:\n",
    "        return_money = input_money\n",
    "        print(f\"금액이 부족합니다. 남은 커피 : {coffe_count}잔 | 잔돈 : {return_money}\")\n",
    "    else:\n",
    "        print(\"올바른 금액을 입력해 주세요\")\n",
    "print(\"커피가 품절되었습니다\")"
   ]
  },
  {
   "cell_type": "code",
   "execution_count": 12,
   "id": "6cc0cac7",
   "metadata": {},
   "outputs": [
    {
     "name": "stdout",
     "output_type": "stream",
     "text": [
      "80.75\n"
     ]
    }
   ],
   "source": [
    "# 평균 구하기\n",
    "scores = [78, 85, 95, 65]\n",
    "total = 0\n",
    "list_length = len(scores)\n",
    "\n",
    "while scores:\n",
    "    total += scores.pop()\n",
    "print(total / list_length)"
   ]
  },
  {
   "cell_type": "code",
   "execution_count": 13,
   "id": "10812c62",
   "metadata": {},
   "outputs": [
    {
     "data": {
      "text/plain": [
       "80.75"
      ]
     },
     "execution_count": 13,
     "metadata": {},
     "output_type": "execute_result"
    }
   ],
   "source": [
    "import numpy as np\n",
    "scores = [78, 85, 95, 65]\n",
    "np.mean(scores)"
   ]
  },
  {
   "cell_type": "code",
   "execution_count": 16,
   "id": "f9faed4d",
   "metadata": {},
   "outputs": [
    {
     "name": "stdout",
     "output_type": "stream",
     "text": [
      "80.75\n",
      "119.1875\n"
     ]
    },
    {
     "data": {
      "text/plain": [
       "10.917302780449024"
      ]
     },
     "execution_count": 16,
     "metadata": {},
     "output_type": "execute_result"
    }
   ],
   "source": [
    "# 표준편차 (평균과 각 data의 차이를 제곱한 것의 제곱근을 구한 것의 평균)\n",
    "scores = [78, 85, 95, 65]\n",
    "\n",
    "# 평균 구하기\n",
    "total = 0\n",
    "var = 0\n",
    "\n",
    "while var < len(scores):\n",
    "    total += scores[var]\n",
    "    var += 1\n",
    "\n",
    "avg = total / len(scores)\n",
    "print(avg)\n",
    "\n",
    "# 각 데이터와 평균의 차이의 제곱의 합의 평균 구하기\n",
    "total = 0\n",
    "var = 0\n",
    "while var < len(scores):\n",
    "    total += (scores[var] - avg) ** 2\n",
    "    var += 1\n",
    "\n",
    "avg = total / len(scores)\n",
    "print(avg)\n",
    "\n",
    "import math\n",
    "math.sqrt(avg)"
   ]
  },
  {
   "cell_type": "code",
   "execution_count": 17,
   "id": "0fb254ea",
   "metadata": {},
   "outputs": [
    {
     "data": {
      "text/plain": [
       "10.917302780449024"
      ]
     },
     "execution_count": 17,
     "metadata": {},
     "output_type": "execute_result"
    }
   ],
   "source": [
    "np.std(scores)"
   ]
  },
  {
   "cell_type": "markdown",
   "id": "cca9c3f0",
   "metadata": {},
   "source": [
    "### while else\n",
    ": else문은 반복문이 정상적으로 종료 되었을 경우 실행된다.  \n",
    ": while문 안에 break가 있어 반복이 중단된 경우에는 else문이 실행되지 않는다."
   ]
  },
  {
   "cell_type": "code",
   "execution_count": 20,
   "id": "6dc9d7a6",
   "metadata": {},
   "outputs": [
    {
     "name": "stdout",
     "output_type": "stream",
     "text": [
      "1\n",
      "2\n",
      "3\n"
     ]
    }
   ],
   "source": [
    "i = 1\n",
    "while i < 5:\n",
    "    print(i)\n",
    "    if i == 3:\n",
    "        break\n",
    "    i += 1\n",
    "else:\n",
    "    print(\"반복이 종료 되었습니다.\")"
   ]
  },
  {
   "cell_type": "code",
   "execution_count": null,
   "id": "4fe1e66e",
   "metadata": {},
   "outputs": [],
   "source": []
  }
 ],
 "metadata": {
  "kernelspec": {
   "display_name": "base",
   "language": "python",
   "name": "python3"
  },
  "language_info": {
   "codemirror_mode": {
    "name": "ipython",
    "version": 3
   },
   "file_extension": ".py",
   "mimetype": "text/x-python",
   "name": "python",
   "nbconvert_exporter": "python",
   "pygments_lexer": "ipython3",
   "version": "3.12.7"
  }
 },
 "nbformat": 4,
 "nbformat_minor": 5
}
