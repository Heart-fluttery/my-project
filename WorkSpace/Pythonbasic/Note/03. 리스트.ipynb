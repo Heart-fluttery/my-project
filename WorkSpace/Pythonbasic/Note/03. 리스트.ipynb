{
 "cells": [
  {
   "cell_type": "markdown",
   "id": "1bb98e5e",
   "metadata": {},
   "source": [
    "### 리스트(list) 자료형\n",
    "- 숫자나 문자들의 모음을 하나의 자료형으로 표현하기 위해 사용"
   ]
  },
  {
   "cell_type": "code",
   "execution_count": 1,
   "id": "358f593a",
   "metadata": {},
   "outputs": [],
   "source": [
    "# 리스트 자료형 선언\n",
    "var01 = []\n",
    "var02 = [1,2,3]\n",
    "var03 = ['I', 'have', 'a', 'dream']\n",
    "var04 = [1, 2, 'Dream', 'True']\n",
    "var05 = [1, 2, ['Dream', 'True']]"
   ]
  },
  {
   "cell_type": "code",
   "execution_count": 2,
   "id": "01588f2b",
   "metadata": {},
   "outputs": [
    {
     "name": "stdout",
     "output_type": "stream",
     "text": [
      "Dream\n"
     ]
    }
   ],
   "source": [
    "# var05에서 'Dream'만 추출하기\n",
    "print(var05[2][0])"
   ]
  },
  {
   "cell_type": "markdown",
   "id": "cfe9e036",
   "metadata": {},
   "source": [
    "---\n",
    "### 리스트 연산자"
   ]
  },
  {
   "cell_type": "code",
   "execution_count": 3,
   "id": "2e8e9f8a",
   "metadata": {},
   "outputs": [
    {
     "data": {
      "text/plain": [
       "[1, 2, 3, 4, 5, 6]"
      ]
     },
     "execution_count": 3,
     "metadata": {},
     "output_type": "execute_result"
    }
   ],
   "source": [
    "# 리스트의 확장\n",
    "\n",
    "var01 = [1,2,3]\n",
    "var02 = [4,5,6]\n",
    "var01 +  var02"
   ]
  },
  {
   "cell_type": "code",
   "execution_count": 4,
   "id": "88ad0eee",
   "metadata": {},
   "outputs": [
    {
     "name": "stdout",
     "output_type": "stream",
     "text": [
      "5\n",
      "7\n",
      "9\n"
     ]
    }
   ],
   "source": [
    "# 리스트의 덧셈\n",
    "for i in range(len(var01)):\n",
    "    print(var01[i] + var02[i])"
   ]
  },
  {
   "cell_type": "code",
   "execution_count": 5,
   "id": "0f6ae76f",
   "metadata": {},
   "outputs": [
    {
     "data": {
      "text/plain": [
       "'3hi!'"
      ]
     },
     "execution_count": 5,
     "metadata": {},
     "output_type": "execute_result"
    }
   ],
   "source": [
    "# 3hi!\n",
    "var = [1,2,3]\n",
    "str(var[2]) + \"hi!\""
   ]
  },
  {
   "cell_type": "code",
   "execution_count": 6,
   "id": "ef6d6294",
   "metadata": {},
   "outputs": [
    {
     "name": "stdout",
     "output_type": "stream",
     "text": [
      "True\n",
      "False\n"
     ]
    }
   ],
   "source": [
    "var = [1,2,3]\n",
    "print(3 in var)\n",
    "print(4 in var)"
   ]
  },
  {
   "cell_type": "markdown",
   "id": "8e01f715",
   "metadata": {},
   "source": [
    "---\n",
    "### 리스트의 수정과 삭제"
   ]
  },
  {
   "cell_type": "code",
   "execution_count": 7,
   "id": "de3f0bd5",
   "metadata": {},
   "outputs": [
    {
     "data": {
      "text/plain": [
       "[1, 2, 4]"
      ]
     },
     "execution_count": 7,
     "metadata": {},
     "output_type": "execute_result"
    }
   ],
   "source": [
    "var = [1,2,3]\n",
    "var[2] = 4\n",
    "var"
   ]
  },
  {
   "cell_type": "code",
   "execution_count": 8,
   "id": "966397a9",
   "metadata": {},
   "outputs": [
    {
     "data": {
      "text/plain": [
       "[1, 'a', 'b', 'c', 4]"
      ]
     },
     "execution_count": 8,
     "metadata": {},
     "output_type": "execute_result"
    }
   ],
   "source": [
    "var[1:2] = ['a', 'b', 'c']\n",
    "var"
   ]
  },
  {
   "cell_type": "code",
   "execution_count": 9,
   "id": "4ad4f421",
   "metadata": {},
   "outputs": [
    {
     "data": {
      "text/plain": [
       "[1, 'c', 4]"
      ]
     },
     "execution_count": 9,
     "metadata": {},
     "output_type": "execute_result"
    }
   ],
   "source": [
    "var[1:2+1] = []\n",
    "var"
   ]
  },
  {
   "cell_type": "code",
   "execution_count": 10,
   "id": "cecb7447",
   "metadata": {},
   "outputs": [
    {
     "data": {
      "text/plain": [
       "[1, 4]"
      ]
     },
     "execution_count": 10,
     "metadata": {},
     "output_type": "execute_result"
    }
   ],
   "source": [
    "del var[1]\n",
    "var"
   ]
  },
  {
   "cell_type": "markdown",
   "id": "67588f4c",
   "metadata": {},
   "source": [
    "### Quiz)"
   ]
  },
  {
   "cell_type": "code",
   "execution_count": 11,
   "id": "e0d6ae39",
   "metadata": {},
   "outputs": [
    {
     "name": "stdout",
     "output_type": "stream",
     "text": [
      "[100, 200, 300, 400, 500, 600, 700]\n"
     ]
    }
   ],
   "source": [
    "# 출력 예) [100, 200, 300, 400, 500, 600, 700]\n",
    "varEx = list(range(100, 700+1, 100))\n",
    "print(varEx)"
   ]
  },
  {
   "cell_type": "code",
   "execution_count": 12,
   "id": "1e82404a",
   "metadata": {},
   "outputs": [
    {
     "name": "stdout",
     "output_type": "stream",
     "text": [
      "[100, 300, 400, 500, 600, 700]\n"
     ]
    }
   ],
   "source": [
    "# 200 삭제하기\n",
    "del varEx[1]\n",
    "print(varEx)"
   ]
  },
  {
   "cell_type": "code",
   "execution_count": 13,
   "id": "6426f8de",
   "metadata": {},
   "outputs": [
    {
     "name": "stdout",
     "output_type": "stream",
     "text": [
      "[100, 600, 700]\n"
     ]
    }
   ],
   "source": [
    "# 300, 400, 500 삭제하기\n",
    "varEx[1:3+1] = [] # del varEx[1:3+1]\n",
    "print(varEx)"
   ]
  },
  {
   "cell_type": "code",
   "execution_count": 14,
   "id": "adfc3320",
   "metadata": {},
   "outputs": [
    {
     "name": "stdout",
     "output_type": "stream",
     "text": [
      "[100, 200, 300, 400, 500, 600, 700]\n"
     ]
    }
   ],
   "source": [
    "# 원 상태로 복원하기\n",
    "varEx[1:1] = list(range(200, 500+1, 100))\n",
    "print(varEx)"
   ]
  },
  {
   "cell_type": "markdown",
   "id": "146fbc5c",
   "metadata": {},
   "source": [
    "### 리스트 관련 함수"
   ]
  },
  {
   "cell_type": "code",
   "execution_count": 16,
   "id": "d366b30d",
   "metadata": {},
   "outputs": [
    {
     "data": {
      "text/plain": [
       "[1, 2, 3, 4, [5, 6]]"
      ]
     },
     "execution_count": 16,
     "metadata": {},
     "output_type": "execute_result"
    }
   ],
   "source": [
    "# 리스트에 데이터 추가\n",
    "var = [1,2,3]\n",
    "var.append(4)\n",
    "var.append([5,6])\n",
    "var"
   ]
  },
  {
   "cell_type": "code",
   "execution_count": 20,
   "id": "1dcce059",
   "metadata": {},
   "outputs": [
    {
     "name": "stdout",
     "output_type": "stream",
     "text": [
      "[1, 2, 3, 4]\n",
      "[4, 3, 2, 1]\n"
     ]
    }
   ],
   "source": [
    "# 리스트의 정렬\n",
    "var = [1,4,3,2]\n",
    "\n",
    "# 오름차순\n",
    "var.sort()\n",
    "print(var)\n",
    "\n",
    "# 내림차순\n",
    "var.reverse()\n",
    "print(var)"
   ]
  },
  {
   "cell_type": "code",
   "execution_count": 22,
   "id": "cc646c03",
   "metadata": {},
   "outputs": [
    {
     "data": {
      "text/plain": [
       "[4, 1, 2, 3]"
      ]
     },
     "execution_count": 22,
     "metadata": {},
     "output_type": "execute_result"
    }
   ],
   "source": [
    "# 리스트에 데이터 삽입\n",
    "var = [1,2,3]\n",
    "var.insert(0, 4)\n",
    "var"
   ]
  },
  {
   "cell_type": "code",
   "execution_count": 35,
   "id": "c0a1843e",
   "metadata": {},
   "outputs": [
    {
     "name": "stdout",
     "output_type": "stream",
     "text": [
      "[1, 2, 3, 5]\n"
     ]
    }
   ],
   "source": [
    "# 리스트에 요소 제거\n",
    "var = [1,2,3,4,4,4,5]\n",
    "for _ in range(var.count(4)):\n",
    "    var.remove(4)\n",
    "print(var)"
   ]
  },
  {
   "cell_type": "code",
   "execution_count": null,
   "id": "c06245db",
   "metadata": {},
   "outputs": [
    {
     "name": "stdout",
     "output_type": "stream",
     "text": [
      "3\n",
      "[1, 2]\n"
     ]
    }
   ],
   "source": [
    "# 리스트에서 데이터 꺼내기\n",
    "var = [1,2,3]\n",
    "print(var.pop()) # 리스트의 마지막[()가 비어있을 때] 데이터를 보여주고 해당 데이터는 삭제됨.\n",
    "print(var)"
   ]
  },
  {
   "cell_type": "code",
   "execution_count": 26,
   "id": "10bbcfd3",
   "metadata": {},
   "outputs": [
    {
     "name": "stdout",
     "output_type": "stream",
     "text": [
      "3\n",
      "2\n",
      "1\n",
      "[]\n"
     ]
    }
   ],
   "source": [
    "# for문을 사용한 pop\n",
    "var = [1,2,3]\n",
    "for _ in range(len(var)):\n",
    "    print(var.pop())\n",
    "print(var)"
   ]
  },
  {
   "cell_type": "code",
   "execution_count": 27,
   "id": "9079c9e4",
   "metadata": {},
   "outputs": [
    {
     "name": "stdout",
     "output_type": "stream",
     "text": [
      "1\n",
      "[2, 3]\n"
     ]
    }
   ],
   "source": [
    "# 원하는 위치를 pop하기\n",
    "var = [1,2,3]\n",
    "print(var.pop(0))\n",
    "print(var)"
   ]
  },
  {
   "cell_type": "code",
   "execution_count": 28,
   "id": "257c1066",
   "metadata": {},
   "outputs": [
    {
     "data": {
      "text/plain": [
       "[1, 2, 3, 4, 5, 6]"
      ]
     },
     "execution_count": 28,
     "metadata": {},
     "output_type": "execute_result"
    }
   ],
   "source": [
    "# 리스트의 확장\n",
    "var = [1,2,3,4]\n",
    "var.extend([5,6])\n",
    "var"
   ]
  },
  {
   "cell_type": "markdown",
   "id": "0ab394c1",
   "metadata": {},
   "source": [
    "### Ex"
   ]
  },
  {
   "cell_type": "code",
   "execution_count": 31,
   "id": "47b080f5",
   "metadata": {},
   "outputs": [
    {
     "data": {
      "text/plain": [
       "55"
      ]
     },
     "execution_count": 31,
     "metadata": {},
     "output_type": "execute_result"
    }
   ],
   "source": [
    "# 1부터 10까지의 수 중 짝수 List와 홀수 List를 따로 생성하고\n",
    "# 짝수 List에 홀수 List를 확장하여 합계 구하기\n",
    "evenVar = list(range(2, 10+1, 2))\n",
    "oddVar = list(range(1, 10+1, 2))\n",
    "evenVar.extend(oddVar)\n",
    "sum(evenVar)\n"
   ]
  },
  {
   "cell_type": "markdown",
   "id": "44e24822",
   "metadata": {},
   "source": [
    "### Ex\n",
    ": 아래의 리스트를 필요한 부분을 발췌하여\n",
    "Hello World! My name is Alice and I'm 30 years old.로 출력하기"
   ]
  },
  {
   "cell_type": "code",
   "execution_count": 37,
   "id": "b1c27300",
   "metadata": {},
   "outputs": [
    {
     "name": "stdout",
     "output_type": "stream",
     "text": [
      "Hello World! My name is Alice and I'm 30 years old.\n",
      "Hello World! My name is Alice and I'm 30 years old.\n"
     ]
    }
   ],
   "source": [
    "list01 = [1, 3.14, 'Hello World!', True, [170, 50, 30], ['Alice', 'Cathy']]\n",
    "print(list01[2], \"My name is\", list01[-1][0], \"and I'm\", list01[-2][2], \"years old.\")\n",
    "print(f\"{list01[2]} My name is {list01[-1][0]} and I'm {list01[-2][2]} years old.\")\n"
   ]
  },
  {
   "cell_type": "markdown",
   "id": "633f20f0",
   "metadata": {},
   "source": [
    "### 리스트의 복사\n",
    "1. Call by Reference"
   ]
  },
  {
   "cell_type": "code",
   "execution_count": 38,
   "id": "edb37639",
   "metadata": {},
   "outputs": [],
   "source": [
    "var01 = [1,2,3,4]\n",
    "var02 = var01"
   ]
  },
  {
   "cell_type": "code",
   "execution_count": 40,
   "id": "f0a6f2e3",
   "metadata": {},
   "outputs": [],
   "source": [
    "var02[0] = 10"
   ]
  },
  {
   "cell_type": "code",
   "execution_count": 41,
   "id": "c99a45ae",
   "metadata": {},
   "outputs": [
    {
     "name": "stdout",
     "output_type": "stream",
     "text": [
      "[10, 2, 3, 4]\n",
      "[10, 2, 3, 4]\n"
     ]
    }
   ],
   "source": [
    "print(var01)\n",
    "print(var02)"
   ]
  },
  {
   "cell_type": "markdown",
   "id": "66c5dd18",
   "metadata": {},
   "source": [
    "### Call by Value"
   ]
  },
  {
   "cell_type": "code",
   "execution_count": 42,
   "id": "286fcdc9",
   "metadata": {},
   "outputs": [],
   "source": [
    "var01 = [1,2,3,4]\n",
    "var02 = var01.copy()"
   ]
  },
  {
   "cell_type": "code",
   "execution_count": 43,
   "id": "2fe40ba9",
   "metadata": {},
   "outputs": [],
   "source": [
    "var02[0] = 10"
   ]
  },
  {
   "cell_type": "code",
   "execution_count": 44,
   "id": "528ca8d8",
   "metadata": {},
   "outputs": [
    {
     "name": "stdout",
     "output_type": "stream",
     "text": [
      "[1, 2, 3, 4]\n",
      "[10, 2, 3, 4]\n"
     ]
    }
   ],
   "source": [
    "print(var01)\n",
    "print(var02)"
   ]
  },
  {
   "cell_type": "code",
   "execution_count": 45,
   "id": "e8cc7e48",
   "metadata": {},
   "outputs": [],
   "source": [
    "from copy import copy"
   ]
  },
  {
   "cell_type": "code",
   "execution_count": 46,
   "id": "b3298941",
   "metadata": {},
   "outputs": [
    {
     "name": "stdout",
     "output_type": "stream",
     "text": [
      "[1, 2, 3, 4]\n",
      "[10, 2, 3, 4]\n"
     ]
    }
   ],
   "source": [
    "var01 = [1,2,3,4]\n",
    "var02 = copy(var01)\n",
    "var02[0] = 10\n",
    "print(var01)\n",
    "print(var02)"
   ]
  },
  {
   "cell_type": "code",
   "execution_count": 47,
   "id": "0c2e774d",
   "metadata": {},
   "outputs": [
    {
     "name": "stdout",
     "output_type": "stream",
     "text": [
      "[1, 2, 3, 4]\n",
      "[10, 2, 3, 4]\n"
     ]
    }
   ],
   "source": [
    "var01 = [1,2,3,4]\n",
    "var02 = var01[:]\n",
    "var02[0] = 10\n",
    "print(var01)\n",
    "print(var02)"
   ]
  },
  {
   "cell_type": "code",
   "execution_count": null,
   "id": "69ceaf99",
   "metadata": {},
   "outputs": [],
   "source": []
  }
 ],
 "metadata": {
  "kernelspec": {
   "display_name": "base",
   "language": "python",
   "name": "python3"
  },
  "language_info": {
   "codemirror_mode": {
    "name": "ipython",
    "version": 3
   },
   "file_extension": ".py",
   "mimetype": "text/x-python",
   "name": "python",
   "nbconvert_exporter": "python",
   "pygments_lexer": "ipython3",
   "version": "3.12.7"
  }
 },
 "nbformat": 4,
 "nbformat_minor": 5
}
