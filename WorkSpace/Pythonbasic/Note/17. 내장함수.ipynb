{
 "cells": [
  {
   "cell_type": "markdown",
   "id": "5e95d813",
   "metadata": {},
   "source": [
    "### 내장 함수"
   ]
  },
  {
   "cell_type": "code",
   "execution_count": 1,
   "id": "be0849c1",
   "metadata": {},
   "outputs": [
    {
     "name": "stdout",
     "output_type": "stream",
     "text": [
      "3\n"
     ]
    }
   ],
   "source": [
    "# 절대값\n",
    "print(abs(-3))"
   ]
  },
  {
   "cell_type": "code",
   "execution_count": 5,
   "id": "eb7e6a24",
   "metadata": {},
   "outputs": [
    {
     "name": "stdout",
     "output_type": "stream",
     "text": [
      "True\n",
      "False\n"
     ]
    }
   ],
   "source": [
    "# all\n",
    "print(all([1,2,3]))\n",
    "print(all([1,2,0]))"
   ]
  },
  {
   "cell_type": "code",
   "execution_count": 9,
   "id": "aa7aa495",
   "metadata": {},
   "outputs": [
    {
     "name": "stdout",
     "output_type": "stream",
     "text": [
      "True\n",
      "False\n",
      "False\n"
     ]
    }
   ],
   "source": [
    "# any\n",
    "print(any([0, 0, 1]))\n",
    "print(any([0, 0, 0]))\n",
    "print(any(['', '']))"
   ]
  },
  {
   "cell_type": "code",
   "execution_count": 16,
   "id": "58f82032",
   "metadata": {},
   "outputs": [
    {
     "name": "stdout",
     "output_type": "stream",
     "text": [
      "a\n",
      "0\n"
     ]
    }
   ],
   "source": [
    "# chr : ASCII Code값을 문자로 출력\n",
    "print(chr(97))\n",
    "print(chr(48))"
   ]
  },
  {
   "cell_type": "code",
   "execution_count": 18,
   "id": "6a744e8a",
   "metadata": {},
   "outputs": [
    {
     "name": "stdout",
     "output_type": "stream",
     "text": [
      "97\n",
      "48\n"
     ]
    }
   ],
   "source": [
    "# ord : 문자를 ASCII Code로 출력\n",
    "print(ord(\"a\"))\n",
    "print(ord(\"0\"))"
   ]
  },
  {
   "cell_type": "code",
   "execution_count": null,
   "id": "07b847e2",
   "metadata": {},
   "outputs": [
    {
     "name": "stdout",
     "output_type": "stream",
     "text": [
      "0 a\n",
      "1 b\n",
      "2 c\n"
     ]
    }
   ],
   "source": [
    "# enumerate : 순서가 있는 자료형을 index가 있는 enumerate 객체로 변환\n",
    "\n",
    "for i, name in enumerate(['a','b','c']):\n",
    "    print(i, name)"
   ]
  },
  {
   "cell_type": "code",
   "execution_count": 21,
   "id": "ecafa87a",
   "metadata": {},
   "outputs": [],
   "source": [
    "# 양수만 고르는 함수\n",
    "def positive(numberList):\n",
    "    result = []\n",
    "    for num in numberList:\n",
    "        if num > 0:\n",
    "            result.append(num)\n",
    "    return result"
   ]
  },
  {
   "cell_type": "code",
   "execution_count": 22,
   "id": "3c1e6e6a",
   "metadata": {},
   "outputs": [
    {
     "name": "stdout",
     "output_type": "stream",
     "text": [
      "[1, 2, 6]\n"
     ]
    }
   ],
   "source": [
    "print(positive([1, -3, 0, 2, -5, 6]))"
   ]
  },
  {
   "cell_type": "code",
   "execution_count": 23,
   "id": "423dba2e",
   "metadata": {},
   "outputs": [
    {
     "name": "stdout",
     "output_type": "stream",
     "text": [
      "[1, 2, 6]\n"
     ]
    }
   ],
   "source": [
    "# 양수만 고르는 함수를 filter를 사용\n",
    "def positive(x):\n",
    "    return x > 0\n",
    "\n",
    "print(list(filter(positive, [1, -3, 0, 2, -5, 6])))"
   ]
  },
  {
   "cell_type": "code",
   "execution_count": 25,
   "id": "a48a4667",
   "metadata": {},
   "outputs": [
    {
     "name": "stdout",
     "output_type": "stream",
     "text": [
      "(2, 1)\n"
     ]
    }
   ],
   "source": [
    "# 몫과 나머지\n",
    "var = divmod(7, 3)\n",
    "print(var)"
   ]
  },
  {
   "cell_type": "code",
   "execution_count": 2,
   "id": "46680f57",
   "metadata": {},
   "outputs": [
    {
     "name": "stdout",
     "output_type": "stream",
     "text": [
      "3\n",
      "hidata\n",
      "(1, 1)\n"
     ]
    }
   ],
   "source": [
    "# eval(expression)은 실행 가능한 문자열을 입력받아 실행\n",
    "print(eval(\"1+2\"))\n",
    "print(eval(\"'hi'+'data'\"))\n",
    "print(eval(\"divmod(4,3)\"))"
   ]
  },
  {
   "cell_type": "code",
   "execution_count": 3,
   "id": "af612bfd",
   "metadata": {},
   "outputs": [
    {
     "name": "stdout",
     "output_type": "stream",
     "text": [
      "[3, 6, 9]\n",
      "[3, 6, 9]\n"
     ]
    }
   ],
   "source": [
    "# 정렬\n",
    "a1 = [6,3,9]\n",
    "a2 = sorted(a1)\n",
    "print(sorted(a1))\n",
    "print(a2)"
   ]
  },
  {
   "cell_type": "code",
   "execution_count": 4,
   "id": "ff77c831",
   "metadata": {},
   "outputs": [
    {
     "name": "stdout",
     "output_type": "stream",
     "text": [
      "1 4\n",
      "2 5\n",
      "3 6\n"
     ]
    }
   ],
   "source": [
    "# zip\n",
    "num1List = [1,2,3]\n",
    "num2List = [4,5,6]\n",
    "\n",
    "for num1, num2 in zip(num1List, num2List):\n",
    "    print(num1, num2)"
   ]
  },
  {
   "cell_type": "code",
   "execution_count": null,
   "id": "d4370fb7",
   "metadata": {},
   "outputs": [],
   "source": []
  }
 ],
 "metadata": {
  "kernelspec": {
   "display_name": "base",
   "language": "python",
   "name": "python3"
  },
  "language_info": {
   "codemirror_mode": {
    "name": "ipython",
    "version": 3
   },
   "file_extension": ".py",
   "mimetype": "text/x-python",
   "name": "python",
   "nbconvert_exporter": "python",
   "pygments_lexer": "ipython3",
   "version": "3.12.7"
  }
 },
 "nbformat": 4,
 "nbformat_minor": 5
}
