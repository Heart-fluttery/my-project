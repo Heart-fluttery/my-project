{
 "cells": [
  {
   "cell_type": "markdown",
   "id": "68f56307",
   "metadata": {},
   "source": [
    "# 1\n",
    "## 2\n",
    "### 3\n",
    "- 1\n",
    "- 2\n",
    "- 3"
   ]
  },
  {
   "cell_type": "markdown",
   "id": "1c1bee9a",
   "metadata": {},
   "source": [
    "- Python 기초\n",
    "  \n",
    "  사칙연산"
   ]
  },
  {
   "cell_type": "code",
   "execution_count": 1,
   "id": "059c310d",
   "metadata": {},
   "outputs": [
    {
     "data": {
      "text/plain": [
       "3"
      ]
     },
     "execution_count": 1,
     "metadata": {},
     "output_type": "execute_result"
    }
   ],
   "source": [
    "# 덧셈\n",
    "1 + 2"
   ]
  },
  {
   "cell_type": "code",
   "execution_count": null,
   "id": "525e9695",
   "metadata": {},
   "outputs": [
    {
     "data": {
      "text/plain": [
       "1"
      ]
     },
     "execution_count": 2,
     "metadata": {},
     "output_type": "execute_result"
    }
   ],
   "source": [
    "# 정수 나눗셈의 나머지\n",
    "5 % 2"
   ]
  },
  {
   "cell_type": "code",
   "execution_count": 3,
   "id": "69fbdd28",
   "metadata": {},
   "outputs": [
    {
     "data": {
      "text/plain": [
       "2"
      ]
     },
     "execution_count": 3,
     "metadata": {},
     "output_type": "execute_result"
    }
   ],
   "source": [
    "# 정수 나눗셈의 몫\n",
    "5 // 2"
   ]
  },
  {
   "cell_type": "markdown",
   "id": "a73668e1",
   "metadata": {},
   "source": [
    "---\n",
    "### 변수에 대입하여 계산하기"
   ]
  },
  {
   "cell_type": "code",
   "execution_count": 4,
   "id": "44e76ae3",
   "metadata": {},
   "outputs": [
    {
     "data": {
      "text/plain": [
       "7"
      ]
     },
     "execution_count": 4,
     "metadata": {},
     "output_type": "execute_result"
    }
   ],
   "source": [
    "var_1 = 2\n",
    "var_2 = 5\n",
    "var_1 + var_2"
   ]
  },
  {
   "cell_type": "code",
   "execution_count": 5,
   "id": "7af8e169",
   "metadata": {},
   "outputs": [
    {
     "data": {
      "text/plain": [
       "int"
      ]
     },
     "execution_count": 5,
     "metadata": {},
     "output_type": "execute_result"
    }
   ],
   "source": [
    "type(var_1)"
   ]
  },
  {
   "cell_type": "code",
   "execution_count": 6,
   "id": "ae9cfdc9",
   "metadata": {},
   "outputs": [
    {
     "data": {
      "text/plain": [
       "'Python'"
      ]
     },
     "execution_count": 6,
     "metadata": {},
     "output_type": "execute_result"
    }
   ],
   "source": [
    "var_1 = 'Python'\n",
    "var_1"
   ]
  },
  {
   "cell_type": "code",
   "execution_count": null,
   "id": "9a5fecc1",
   "metadata": {},
   "outputs": [
    {
     "data": {
      "text/plain": [
       "str"
      ]
     },
     "execution_count": 7,
     "metadata": {},
     "output_type": "execute_result"
    }
   ],
   "source": [
    "# 타입이 넣는대로 바뀜\n",
    "type(var_1)"
   ]
  },
  {
   "cell_type": "markdown",
   "id": "f252b83a",
   "metadata": {},
   "source": [
    "> 변수의 자료형은 데이터형을 유추하여 자료형이 변경된다."
   ]
  },
  {
   "cell_type": "code",
   "execution_count": 11,
   "id": "83444497",
   "metadata": {},
   "outputs": [
    {
     "name": "stdout",
     "output_type": "stream",
     "text": [
      "Python_5\tPython\n"
     ]
    }
   ],
   "source": [
    "# 여러개의 결과 출력\n",
    "print(var_1, var_2, sep=\"_\", end=\"\\t\")\n",
    "print(var_1)"
   ]
  },
  {
   "cell_type": "code",
   "execution_count": null,
   "id": "da693b33",
   "metadata": {},
   "outputs": [],
   "source": []
  }
 ],
 "metadata": {
  "kernelspec": {
   "display_name": "base",
   "language": "python",
   "name": "python3"
  },
  "language_info": {
   "codemirror_mode": {
    "name": "ipython",
    "version": 3
   },
   "file_extension": ".py",
   "mimetype": "text/x-python",
   "name": "python",
   "nbconvert_exporter": "python",
   "pygments_lexer": "ipython3",
   "version": "3.12.7"
  }
 },
 "nbformat": 4,
 "nbformat_minor": 5
}
