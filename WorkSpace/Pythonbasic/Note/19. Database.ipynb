{
 "cells": [
  {
   "cell_type": "markdown",
   "id": "b9a5ddef",
   "metadata": {},
   "source": [
    "### SQLite"
   ]
  },
  {
   "cell_type": "code",
   "execution_count": 1,
   "id": "80b104f8",
   "metadata": {},
   "outputs": [],
   "source": [
    "import sqlite3\n",
    "\n",
    "# sqlite 데이터베이스 연결하기\n",
    "dbPath = \"../Data/test.sqlite\"\n",
    "conn = sqlite3.connect(dbPath)\n",
    "\n",
    "# 테이블을 생성하고 데이터 넣기\n",
    "curs = conn.cursor()\n",
    "curs.executescript(\n",
    "    \"\"\"\n",
    "    DROP TABLE IF EXISTS items;\n",
    "    \n",
    "    CREATE TABLE items(\n",
    "        item_id INTEGER PRIMARY KEY AUTOINCREMENT,\n",
    "        name TEXT UNIQUE,\n",
    "        price INTEGER\n",
    "    );\n",
    "\n",
    "    INSERT INTO items(name, price) VALUES ('Apples', 800);\n",
    "    INSERT INTO items(name, price) VALUES ('Orange', 780);\n",
    "    INSERT INTO items(name, price) VALUES ('Banana', 430);\n",
    "    \"\"\"\n",
    ")\n",
    "\n",
    "conn.commit()"
   ]
  },
  {
   "cell_type": "code",
   "execution_count": 3,
   "id": "b19ee117",
   "metadata": {},
   "outputs": [
    {
     "name": "stdout",
     "output_type": "stream",
     "text": [
      "(1, 'Apples', 800)\n",
      "(2, 'Orange', 780)\n",
      "(3, 'Banana', 430)\n"
     ]
    }
   ],
   "source": [
    "# 데이터 추출하기\n",
    "curs = conn.cursor()\n",
    "curs.execute(\"SELECT item_id, name, price FROM items\")\n",
    "item_list = curs.fetchall()\n",
    "\n",
    "for it in item_list:\n",
    "    print(it)"
   ]
  },
  {
   "cell_type": "code",
   "execution_count": 4,
   "id": "bf4aafc5",
   "metadata": {},
   "outputs": [],
   "source": [
    "import sqlite3\n",
    "\n",
    "# sqlite 데이터베이스 연결하기\n",
    "dbPath = \"../Data/test2.sqlite\"\n",
    "conn = sqlite3.connect(dbPath)\n",
    "\n",
    "# 테이블을 생성하고 데이터 넣기\n",
    "curs = conn.cursor()\n",
    "curs.executescript(\n",
    "    \"\"\"\n",
    "    DROP TABLE IF EXISTS items;\n",
    "    \n",
    "    CREATE TABLE items(\n",
    "        item_id INTEGER PRIMARY KEY AUTOINCREMENT,\n",
    "        name TEXT UNIQUE,\n",
    "        price INTEGER\n",
    "    );\n",
    "    \"\"\"\n",
    ")\n",
    "\n",
    "conn.commit()"
   ]
  },
  {
   "cell_type": "code",
   "execution_count": 5,
   "id": "1a2bb9b1",
   "metadata": {},
   "outputs": [],
   "source": [
    "# 데이터 넣기\n",
    "curs = conn.cursor()\n",
    "curs.execute(\"INSERT INTO items (name, price) VALUES (?,?)\", (\"Orange\", 5200))\n",
    "conn.commit()"
   ]
  },
  {
   "cell_type": "code",
   "execution_count": 7,
   "id": "6f004ab9",
   "metadata": {},
   "outputs": [],
   "source": [
    "# 여러 데이터를 연속으로 넣기\n",
    "# 데이터 넣기\n",
    "curs = conn.cursor()\n",
    "data = [(\"Mango\", 7700), ('Kiwi', 4000), ('Grape', 8700), ('Peach', 9400)]\n",
    "curs.executemany(\"INSERT INTO items (name, price) VALUES (?,?)\", data)\n",
    "conn.commit()"
   ]
  },
  {
   "cell_type": "code",
   "execution_count": 9,
   "id": "1f1ff82e",
   "metadata": {},
   "outputs": [
    {
     "name": "stdout",
     "output_type": "stream",
     "text": [
      "(1, 'Orange', 5200)\n",
      "(2, 'Mango', 7700)\n",
      "(3, 'Kiwi', 4000)\n",
      "(4, 'Grape', 8700)\n",
      "(5, 'Peach', 9400)\n"
     ]
    }
   ],
   "source": [
    "# 데이터 추출하기\n",
    "curs = conn.cursor()\n",
    "curs.execute(\"SELECT item_id, name, price FROM items\")\n",
    "item_list = curs.fetchall()\n",
    "\n",
    "for it in item_list:\n",
    "    print(it)"
   ]
  },
  {
   "cell_type": "code",
   "execution_count": null,
   "id": "df3d9c4b",
   "metadata": {},
   "outputs": [],
   "source": []
  }
 ],
 "metadata": {
  "kernelspec": {
   "display_name": "base",
   "language": "python",
   "name": "python3"
  },
  "language_info": {
   "codemirror_mode": {
    "name": "ipython",
    "version": 3
   },
   "file_extension": ".py",
   "mimetype": "text/x-python",
   "name": "python",
   "nbconvert_exporter": "python",
   "pygments_lexer": "ipython3",
   "version": "3.12.7"
  }
 },
 "nbformat": 4,
 "nbformat_minor": 5
}
