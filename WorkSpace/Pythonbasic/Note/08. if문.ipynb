{
 "cells": [
  {
   "cell_type": "markdown",
   "id": "a812178a",
   "metadata": {},
   "source": [
    "### if문"
   ]
  },
  {
   "cell_type": "code",
   "execution_count": 4,
   "id": "2d15dad6",
   "metadata": {},
   "outputs": [],
   "source": [
    "# 난수 값이 50보다 큰 수 인지 확인\n",
    "from random import randint"
   ]
  },
  {
   "cell_type": "code",
   "execution_count": 5,
   "id": "9db2e866",
   "metadata": {},
   "outputs": [
    {
     "data": {
      "text/plain": [
       "16"
      ]
     },
     "execution_count": 5,
     "metadata": {},
     "output_type": "execute_result"
    }
   ],
   "source": [
    "randint(1, 100)"
   ]
  },
  {
   "cell_type": "code",
   "execution_count": 6,
   "id": "38513e6b",
   "metadata": {},
   "outputs": [
    {
     "name": "stdout",
     "output_type": "stream",
     "text": [
      "x is greater than 50\n",
      "---end---\n"
     ]
    }
   ],
   "source": [
    "x = randint(1, 100)\n",
    "\n",
    "if x > 50:\n",
    "    print(\"x is greater than 50\")\n",
    "elif x == 50:\n",
    "    print(\"x is equal to 50\")\n",
    "else:\n",
    "    print(\"x is less than 50\")\n",
    "print(\"---end---\")"
   ]
  },
  {
   "cell_type": "code",
   "execution_count": 7,
   "id": "cca1f8f5",
   "metadata": {},
   "outputs": [
    {
     "name": "stdout",
     "output_type": "stream",
     "text": [
      "9 is odd.\n"
     ]
    }
   ],
   "source": [
    "# 홀수 짝수 구분\n",
    "x = 9\n",
    "\n",
    "if x % 2 == 0:\n",
    "    print(x, 'is even,')\n",
    "else:\n",
    "    print(x, 'is odd.')"
   ]
  },
  {
   "cell_type": "code",
   "execution_count": 13,
   "id": "42c4e098",
   "metadata": {},
   "outputs": [
    {
     "name": "stdout",
     "output_type": "stream",
     "text": [
      "4 is even,\n"
     ]
    }
   ],
   "source": [
    "# 사용자로부터 숫자를 입력받아 홀짝수 구분\n",
    "x = int(input(\"숫자를 입력하세요\"))\n",
    "\n",
    "if x % 2 == 0:\n",
    "    print(x, 'is even,')\n",
    "else:\n",
    "    print(x, 'is odd.')"
   ]
  },
  {
   "cell_type": "markdown",
   "id": "1eae840f",
   "metadata": {},
   "source": [
    "### Ex\n",
    "사용자로부터 점수를 입력받아 학점으로 출력하기"
   ]
  },
  {
   "cell_type": "code",
   "execution_count": 59,
   "id": "55ac334a",
   "metadata": {},
   "outputs": [
    {
     "name": "stdout",
     "output_type": "stream",
     "text": [
      "점수는 10 점이고 학점은 F 입니다\n"
     ]
    }
   ],
   "source": [
    "score = int(input(\"점수를 입력하세요\"))\n",
    "cutline = [80, 60, 40, 20, 0]\n",
    "str_score = [\"A\", \"B\", \"C\", \"D\", \"F\"]\n",
    "\n",
    "for i in range(len(cutline)):\n",
    "    if(0<=score<=100):\n",
    "        if(score >= cutline[i]):\n",
    "            print(\"점수는\", score, \"점이고 학점은\", str_score[i], \"입니다\")\n",
    "            break\n",
    "    else:\n",
    "        print(\"올바른 점수를 입력해 주세요\")\n",
    "        break\n",
    "\n",
    "\n",
    "\n",
    "# if score >= 80:\n",
    "#     print(\"점수는\",score,\"점 이고 A학점입니다.\")\n",
    "# elif score >= 60:\n",
    "#     print(\"점수는\",score,\"점 이고 B학점입니다.\")\n",
    "# elif score >= 40:\n",
    "#     print(\"점수는\",score,\"점 이고 C학점입니다.\")\n",
    "# elif score >= 20:\n",
    "#     print(\"점수는\",score,\"점 이고 D학점입니다.\")\n",
    "# elif score >= 00:\n",
    "#     print(\"점수는\",score,\"점 이고 F학점입니다.\")"
   ]
  },
  {
   "cell_type": "code",
   "execution_count": 34,
   "id": "1fb6dbda",
   "metadata": {},
   "outputs": [
    {
     "name": "stdout",
     "output_type": "stream",
     "text": [
      "양수\n"
     ]
    }
   ],
   "source": [
    "var01 = int(input(\"Input NUmber :\"))\n",
    "\n",
    "match var01:\n",
    "    case 0:\n",
    "        print(\"0\")\n",
    "    case 88 | 99:\n",
    "        print(\"88 or 99\")\n",
    "    case var01 if var01 > 0:\n",
    "        print(\"양수\")\n",
    "    case var01 if var01 <0:\n",
    "        print(\"음수\")\n",
    "    case var01 if var01 % 10 == 0:\n",
    "        print(\"10의 배수\")\n",
    "    case _:\n",
    "        print(\"~~~~\")"
   ]
  },
  {
   "cell_type": "markdown",
   "id": "af243d5c",
   "metadata": {},
   "source": [
    "### Ex\n",
    "사용자로부터 점수를 입력받아 학점으로 출력하기\n",
    "단, match case문으로 작성하기"
   ]
  },
  {
   "cell_type": "code",
   "execution_count": null,
   "id": "23387eac",
   "metadata": {},
   "outputs": [
    {
     "name": "stdout",
     "output_type": "stream",
     "text": [
      "입력하신 점수는 79 점이고 학점은 B 입니다.\n"
     ]
    }
   ],
   "source": [
    "score = int(input(\"점수를 입력해 주세요\"))\n",
    "str_score = \"\"\n",
    "\n",
    "if(0<=score<=100):\n",
    "    match score // 20:\n",
    "        case 5 | 4:\n",
    "            str_score = \"A\"\n",
    "        case 3:\n",
    "            str_score = \"B\"\n",
    "        case 2:\n",
    "            str_score = \"C\"\n",
    "        case 1:\n",
    "            str_score = \"D\"\n",
    "        case 0:\n",
    "            str_score = \"F\"\n",
    "    print(\"입력하신 점수는\", score, \"점이고 학점은\", str_score, \"입니다.\")\n",
    "else:\n",
    "    print(\"올바른 점수를 입력해 주세요\")"
   ]
  },
  {
   "cell_type": "code",
   "execution_count": 47,
   "id": "e18c466c",
   "metadata": {},
   "outputs": [
    {
     "name": "stdout",
     "output_type": "stream",
     "text": [
      "신용카드를 이용한 택시 타기!\n"
     ]
    }
   ],
   "source": [
    "# list의 내용을 if문으로 확인하기\n",
    "pocket = ['paper', 'smartphone']\n",
    "card = 1\n",
    "\n",
    "if 'money' in pocket:\n",
    "    print('현금으로 택시 타기!')\n",
    "elif card:\n",
    "    print('신용카드를 이용한 택시 타기!')\n",
    "else:\n",
    "    print('튼튼한 다리 사용!')"
   ]
  },
  {
   "cell_type": "markdown",
   "id": "baa6c6fc",
   "metadata": {},
   "source": [
    "### 삼항 연산자\n",
    ": 변수 = 참인 경우 if(조건문) else 거짓인 경우"
   ]
  },
  {
   "cell_type": "code",
   "execution_count": null,
   "id": "b7a26992",
   "metadata": {},
   "outputs": [
    {
     "name": "stdout",
     "output_type": "stream",
     "text": [
      "짝수\n"
     ]
    }
   ],
   "source": [
    "num = 10\n",
    "result = \"짝수\" if num % 2 == 0 else \"홀수\"\n",
    "print(result)"
   ]
  },
  {
   "cell_type": "code",
   "execution_count": 51,
   "id": "680cdd45",
   "metadata": {},
   "outputs": [
    {
     "name": "stdout",
     "output_type": "stream",
     "text": [
      "200\n"
     ]
    }
   ],
   "source": [
    "# 사용자로부터 입력을 받아 입력 받은 수가 5보다 크면 입력 수의 2배를 구하고 그렇지 않으면 2만 더하여 출력한다.\n",
    "input_num = int(input(\"숫자를 입력해 주세요\"))\n",
    "\n",
    "result = input_num * 2 if input_num > 5 else input_num + 2\n",
    "print(result)"
   ]
  },
  {
   "cell_type": "code",
   "execution_count": null,
   "id": "63482db1",
   "metadata": {},
   "outputs": [
    {
     "name": "stdout",
     "output_type": "stream",
     "text": [
      "0\n",
      "7\n"
     ]
    }
   ],
   "source": [
    "# bit 연산자 (&, |)\n",
    "print(5 & 3)\n",
    "print(5 | 3)"
   ]
  },
  {
   "cell_type": "code",
   "execution_count": 57,
   "id": "89713d7d",
   "metadata": {},
   "outputs": [
    {
     "name": "stdout",
     "output_type": "stream",
     "text": [
      "3\n",
      "5\n"
     ]
    }
   ],
   "source": [
    "print(5 and 3)\n",
    "print(5 or 3)"
   ]
  },
  {
   "cell_type": "code",
   "execution_count": null,
   "id": "5bbe3ce0",
   "metadata": {},
   "outputs": [],
   "source": []
  }
 ],
 "metadata": {
  "kernelspec": {
   "display_name": "base",
   "language": "python",
   "name": "python3"
  },
  "language_info": {
   "codemirror_mode": {
    "name": "ipython",
    "version": 3
   },
   "file_extension": ".py",
   "mimetype": "text/x-python",
   "name": "python",
   "nbconvert_exporter": "python",
   "pygments_lexer": "ipython3",
   "version": "3.12.7"
  }
 },
 "nbformat": 4,
 "nbformat_minor": 5
}
