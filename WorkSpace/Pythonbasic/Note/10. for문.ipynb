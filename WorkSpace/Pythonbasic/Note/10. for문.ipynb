{
 "cells": [
  {
   "cell_type": "markdown",
   "id": "6dcf2061",
   "metadata": {},
   "source": [
    "### range(start, end+1, step)"
   ]
  },
  {
   "cell_type": "code",
   "execution_count": 1,
   "id": "7e94aa77",
   "metadata": {},
   "outputs": [
    {
     "data": {
      "text/plain": [
       "[10, 8, 6, 4, 2]"
      ]
     },
     "execution_count": 1,
     "metadata": {},
     "output_type": "execute_result"
    }
   ],
   "source": [
    "list(range(10, 0, -2))"
   ]
  },
  {
   "cell_type": "code",
   "execution_count": 2,
   "id": "aa573567",
   "metadata": {},
   "outputs": [
    {
     "data": {
      "text/plain": [
       "[]"
      ]
     },
     "execution_count": 2,
     "metadata": {},
     "output_type": "execute_result"
    }
   ],
   "source": [
    "list(range(0, 10, -2))"
   ]
  },
  {
   "cell_type": "code",
   "execution_count": 9,
   "id": "ee0efb84",
   "metadata": {},
   "outputs": [
    {
     "name": "stdout",
     "output_type": "stream",
     "text": [
      " 1 : 1.00000000\n",
      " 2 : 1.41421356\n",
      " 3 : 1.73205081\n",
      " 4 : 2.00000000\n",
      " 5 : 2.23606798\n",
      " 6 : 2.44948974\n",
      " 7 : 2.64575131\n",
      " 8 : 2.82842712\n",
      " 9 : 3.00000000\n",
      "10 : 3.16227766\n"
     ]
    }
   ],
   "source": [
    "# 1에서 10까지의 제곱근을 출력하기\n",
    "\n",
    "import math\n",
    "\n",
    "for i in range(1, 10+1, 1):\n",
    "    print(f\"{i:>2} : {math.sqrt(i):0<.8f}\")"
   ]
  },
  {
   "cell_type": "code",
   "execution_count": 17,
   "id": "cb99292a",
   "metadata": {},
   "outputs": [
    {
     "name": "stdout",
     "output_type": "stream",
     "text": [
      " 2  4  6  8 10 12 14 16 18 \n",
      " 3  6  9 12 15 18 21 24 27 \n",
      " 4  8 12 16 20 24 28 32 36 \n",
      " 5 10 15 20 25 30 35 40 45 \n",
      " 6 12 18 24 30 36 42 48 54 \n",
      " 7 14 21 28 35 42 49 56 63 \n",
      " 8 16 24 32 40 48 56 64 72 \n",
      " 9 18 27 36 45 54 63 72 81 \n"
     ]
    }
   ],
   "source": [
    "# 구구단 결과만 출력하기\n",
    "for dan in range(2, 9+1, 1):\n",
    "    for i in range(1, 9+1, 1):\n",
    "        print(f\"{dan * i:>2}\", end=\" \")\n",
    "        i += 1\n",
    "    print(\"\")"
   ]
  },
  {
   "cell_type": "code",
   "execution_count": null,
   "id": "1c80939e",
   "metadata": {},
   "outputs": [
    {
     "name": "stdout",
     "output_type": "stream",
     "text": [
      "2 X 2 =  4\n",
      "2 X 4 =  8\n",
      "2 X 6 = 12\n",
      "2 X 8 = 16\n",
      "----------\n",
      "4 X 2 =  8\n",
      "4 X 4 = 16\n",
      "4 X 6 = 24\n",
      "4 X 8 = 32\n",
      "----------\n",
      "6 X 2 = 12\n",
      "6 X 4 = 24\n",
      "6 X 6 = 36\n",
      "6 X 8 = 48\n",
      "----------\n",
      "8 X 2 = 16\n",
      "8 X 4 = 32\n",
      "8 X 6 = 48\n",
      "8 X 8 = 64\n",
      "----------\n"
     ]
    }
   ],
   "source": [
    "# 구구단 (2~9단) 중 짝수단과 짝수가 곱해지는 수만 출력하기\n",
    "for dan in range(2, 9+1, 2):\n",
    "    for i in range(2, 9+1, 2):\n",
    "        print(f\"{dan} X {i} = {dan*i:>2}\")\n",
    "    print(f\"{\"-\"*10}\")"
   ]
  },
  {
   "cell_type": "markdown",
   "id": "60d82801",
   "metadata": {},
   "source": [
    "### for문에 Tuple 사용하기"
   ]
  },
  {
   "cell_type": "code",
   "execution_count": 20,
   "id": "ef529738",
   "metadata": {},
   "outputs": [
    {
     "name": "stdout",
     "output_type": "stream",
     "text": [
      "1 + 2 = 3\n",
      "3 + 4 = 7\n",
      "5 + 6 = 11\n"
     ]
    }
   ],
   "source": [
    "# 리스트에 튜플을 함께 사용한 경우\n",
    "var = [(1,2), (3,4), (5,6)]\n",
    "\n",
    "for first, last in var:\n",
    "    print(f\"{first} + {last} = {first+last}\")"
   ]
  },
  {
   "cell_type": "markdown",
   "id": "0bb4ae8a",
   "metadata": {},
   "source": [
    "### Ex : 1부터 10000까지의 수 중\n",
    "1) 3의 배수의 개수 구하기\n",
    "2) 5의 배수의 개수 구하기\n",
    "3) 3의 배수이면서 5의 배수인 개수 구하기\n",
    "4) 3의 배수이거나 5의 배수인 개수 구하기"
   ]
  },
  {
   "cell_type": "code",
   "execution_count": 38,
   "id": "da7ce898",
   "metadata": {},
   "outputs": [
    {
     "name": "stdout",
     "output_type": "stream",
     "text": [
      "1) 3의 배수의 개수 : 3333\n",
      "2) 5의 배수의 개수 : 2000\n",
      "3) 3의 배수이면서 5의 배수인 개수 : 666\n",
      "4) 3의 배수이거나 5의 배수인 개수 : 4667\n"
     ]
    }
   ],
   "source": [
    "count3 = count5 = count3and5 = count3or5 = 0\n",
    "\n",
    "for i in range(1, 10000+1, 1):\n",
    "    if(i % 3 == 0):\n",
    "        count3 += 1\n",
    "    if(i % 5 == 0):\n",
    "        count5 += 1\n",
    "    if(i % 3 == 0 and i % 5 == 0):\n",
    "        count3and5 += 1\n",
    "    if(i % 3 == 0 or i % 5 == 0):\n",
    "        count3or5 += 1\n",
    "print(f\"1) 3의 배수의 개수 : {count3}\\n2) 5의 배수의 개수 : {count5}\\n3) 3의 배수이면서 5의 배수인 개수 : {count3and5}\\n4) 3의 배수이거나 5의 배수인 개수 : {count3or5}\")"
   ]
  },
  {
   "cell_type": "code",
   "execution_count": 39,
   "id": "05ef6597",
   "metadata": {},
   "outputs": [
    {
     "data": {
      "text/plain": [
       "True"
      ]
     },
     "execution_count": 39,
     "metadata": {},
     "output_type": "execute_result"
    }
   ],
   "source": [
    "# 검증\n",
    "count3 + count5 - count3and5 == count3or5"
   ]
  },
  {
   "cell_type": "markdown",
   "id": "6dc581cd",
   "metadata": {},
   "source": [
    "### Ex\n",
    "총 5명의 학생이 시험을 보았는데 시험점수가 60점을 넘으면 합격이고 그렇지 않으면 불합격이다.  \n",
    "합격, 불합격 보여주기"
   ]
  },
  {
   "cell_type": "code",
   "execution_count": 50,
   "id": "035637e8",
   "metadata": {},
   "outputs": [],
   "source": [
    "scores = [90, 25, 57, 45, 80]"
   ]
  },
  {
   "cell_type": "code",
   "execution_count": 52,
   "id": "7e0a5e73",
   "metadata": {},
   "outputs": [
    {
     "name": "stdout",
     "output_type": "stream",
     "text": [
      "1학생은 점수가 90점 이므로 합격 입니다.\n",
      "2학생은 점수가 25점 이어서 불합격 입니다.\n",
      "3학생은 점수가 57점 이어서 불합격 입니다.\n",
      "4학생은 점수가 45점 이어서 불합격 입니다.\n",
      "5학생은 점수가 80점 이므로 합격 입니다.\n"
     ]
    }
   ],
   "source": [
    "number = 1\n",
    "for score in scores:\n",
    "    # print(f\"{i}학생은 점수가 {score[i-1]}점 이므로 합격 입니다.\" if(score[i-1]>60) else f\"{i}학생은 점수가 {score[i-1]}점 이어서 불합격 입니다.\")\n",
    "    print(f\"{number}학생은 점수가 {score}점 {\"이므로 합격\" if(score>60) else \"이어서 불합격\"} 입니다.\")\n",
    "    number += 1"
   ]
  },
  {
   "cell_type": "code",
   "execution_count": 55,
   "id": "3b86b937",
   "metadata": {},
   "outputs": [
    {
     "name": "stdout",
     "output_type": "stream",
     "text": [
      "1번 학생은 합격했습니다\n",
      "5번 학생은 합격했습니다\n"
     ]
    },
    {
     "data": {
      "text/plain": [
       "[1, 5]"
      ]
     },
     "execution_count": 55,
     "metadata": {},
     "output_type": "execute_result"
    }
   ],
   "source": [
    "# Ex : 60점 이상인 합격자 번호만 출력하기\n",
    "scores = [90, 25, 57, 45, 80]\n",
    "number = 1\n",
    "\n",
    "for score in scores:\n",
    "    if(score >= 60):\n",
    "        print(f\"{number}번 학생은 합격했습니다\")\n",
    "    number += 1\n",
    "\n",
    "scores = [90, 25, 57, 45, 80]\n",
    "number = 0\n",
    "passList = []\n",
    "\n",
    "for score in scores :\n",
    "    number += 1\n",
    "    if score < 60:\n",
    "        continue\n",
    "    else:\n",
    "        passList.append(number)\n",
    "\n",
    "passList"
   ]
  },
  {
   "cell_type": "markdown",
   "id": "d54744db",
   "metadata": {},
   "source": [
    "### for else"
   ]
  },
  {
   "cell_type": "code",
   "execution_count": 56,
   "id": "97a99aac",
   "metadata": {},
   "outputs": [
    {
     "name": "stdout",
     "output_type": "stream",
     "text": [
      "1\n",
      "2\n",
      "3\n",
      "4\n",
      "5\n",
      "10이 없습니다.\n"
     ]
    }
   ],
   "source": [
    "for i in range(1, 5+1):\n",
    "    if i == 10:\n",
    "        break\n",
    "    print(i)\n",
    "else:\n",
    "    print('10이 없습니다.')"
   ]
  },
  {
   "cell_type": "markdown",
   "id": "50263fbe",
   "metadata": {},
   "source": [
    "---\n",
    "### 문장과 단어 추출"
   ]
  },
  {
   "cell_type": "code",
   "execution_count": 58,
   "id": "8a1585ae",
   "metadata": {},
   "outputs": [
    {
     "data": {
      "text/plain": [
       "'나는 홍길동 입니다.\\n주소는 서울시 입니다.\\n나이는 35세 입니다.'"
      ]
     },
     "execution_count": 58,
     "metadata": {},
     "output_type": "execute_result"
    }
   ],
   "source": [
    "string = \"\"\"나는 홍길동 입니다.\n",
    "주소는 서울시 입니다.\n",
    "나이는 35세 입니다.\"\"\"\n",
    "string"
   ]
  },
  {
   "cell_type": "code",
   "execution_count": 59,
   "id": "1b87887a",
   "metadata": {},
   "outputs": [],
   "source": [
    "sents = []\n",
    "words = []"
   ]
  },
  {
   "cell_type": "code",
   "execution_count": null,
   "id": "6100433b",
   "metadata": {},
   "outputs": [
    {
     "data": {
      "text/plain": [
       "['나는 홍길동 입니다.', '주소는 서울시 입니다.', '나이는 35세 입니다.']"
      ]
     },
     "execution_count": 60,
     "metadata": {},
     "output_type": "execute_result"
    }
   ],
   "source": [
    "# 문단 -> 문장 (크롤링)\n",
    "for sen in string.split(sep=\"\\n\"):\n",
    "    sents.append(sen)\n",
    "    # 문장 -> 문단\n",
    "    for word in sen.split():\n",
    "        words.append(word)\n",
    "\n",
    "sents"
   ]
  },
  {
   "cell_type": "code",
   "execution_count": 61,
   "id": "53eb4742",
   "metadata": {},
   "outputs": [
    {
     "data": {
      "text/plain": [
       "['나는', '홍길동', '입니다.', '주소는', '서울시', '입니다.', '나이는', '35세', '입니다.']"
      ]
     },
     "execution_count": 61,
     "metadata": {},
     "output_type": "execute_result"
    }
   ],
   "source": [
    "words"
   ]
  },
  {
   "cell_type": "markdown",
   "id": "5ddee307",
   "metadata": {},
   "source": [
    "---\n",
    "### 파이썬의 내포(Comprehension) 함수"
   ]
  },
  {
   "cell_type": "code",
   "execution_count": 62,
   "id": "e4f5680f",
   "metadata": {},
   "outputs": [
    {
     "data": {
      "text/plain": [
       "[5, 10, 15, 20]"
      ]
     },
     "execution_count": 62,
     "metadata": {},
     "output_type": "execute_result"
    }
   ],
   "source": [
    "var01 = [1,2,3,4]\n",
    "var02 = []\n",
    "\n",
    "for i in var01:\n",
    "    var02.append(i * 5)\n",
    "\n",
    "var02"
   ]
  },
  {
   "cell_type": "code",
   "execution_count": 64,
   "id": "8d340484",
   "metadata": {},
   "outputs": [
    {
     "data": {
      "text/plain": [
       "[5, 10, 15, 20]"
      ]
     },
     "execution_count": 64,
     "metadata": {},
     "output_type": "execute_result"
    }
   ],
   "source": [
    "var02 = [i * 5 for i in var01]\n",
    "var02"
   ]
  },
  {
   "cell_type": "code",
   "execution_count": 65,
   "id": "28b40dac",
   "metadata": {},
   "outputs": [
    {
     "data": {
      "text/plain": [
       "[10, 20]"
      ]
     },
     "execution_count": 65,
     "metadata": {},
     "output_type": "execute_result"
    }
   ],
   "source": [
    "var01 = [1,2,3,4]\n",
    "var02 = [i * 5 for i in var01 if i % 2 == 0]\n",
    "var02"
   ]
  },
  {
   "cell_type": "code",
   "execution_count": 69,
   "id": "2f56a49c",
   "metadata": {},
   "outputs": [
    {
     "name": "stdout",
     "output_type": "stream",
     "text": [
      "[2, 4, 6, 8, 10, 12, 14, 16, 18, 3, 6, 9, 12, 15, 18, 21, 24, 27, 4, 8, 12, 16, 20, 24, 28, 32, 36, 5, 10, 15, 20, 25, 30, 35, 40, 45, 6, 12, 18, 24, 30, 36, 42, 48, 54, 7, 14, 21, 28, 35, 42, 49, 56, 63, 8, 16, 24, 32, 40, 48, 56, 64, 72, 9, 18, 27, 36, 45, 54, 63, 72, 81]\n"
     ]
    }
   ],
   "source": [
    "# 구구단 결과만 List로 만들기 (2단 ~ 9단)\n",
    "result = [dan * i for dan in range(2, 9+1) for i in range(1, 9+1) ]\n",
    "print(result)"
   ]
  },
  {
   "cell_type": "code",
   "execution_count": 71,
   "id": "8acaddf4",
   "metadata": {},
   "outputs": [
    {
     "data": {
      "text/plain": [
       "85.0"
      ]
     },
     "execution_count": 71,
     "metadata": {},
     "output_type": "execute_result"
    }
   ],
   "source": [
    "# 60점 이상의 학생 점수만 List로 만들어 평균 구하기\n",
    "import numpy as np\n",
    "scores = [90, 25, 57, 45, 80]\n",
    "passList = [score for score in scores if score >= 60]\n",
    "np.mean(passList)"
   ]
  },
  {
   "cell_type": "code",
   "execution_count": 87,
   "id": "0e5e6a4a",
   "metadata": {},
   "outputs": [
    {
     "data": {
      "text/plain": [
       "[[90], [135], [180], [225], [270], [315], [360], [405]]"
      ]
     },
     "execution_count": 87,
     "metadata": {},
     "output_type": "execute_result"
    }
   ],
   "source": [
    "# 구구단 결과만 출력하기\n",
    "gugudan = [[sum(dan * i for i in range(1, 9+1, 1))] for dan in range(2, 9+1, 1)]\n",
    "# for dan in range(2, 9+1, 1):\n",
    "#     for i in range(1, 9+1, 1):\n",
    "#         print(f\"{dan * i:>2}\", end=\" \")\n",
    "#         i += 1\n",
    "#     print(\"\")\n",
    "gugudan"
   ]
  },
  {
   "cell_type": "code",
   "execution_count": null,
   "id": "87168665",
   "metadata": {},
   "outputs": [],
   "source": []
  }
 ],
 "metadata": {
  "kernelspec": {
   "display_name": "base",
   "language": "python",
   "name": "python3"
  },
  "language_info": {
   "codemirror_mode": {
    "name": "ipython",
    "version": 3
   },
   "file_extension": ".py",
   "mimetype": "text/x-python",
   "name": "python",
   "nbconvert_exporter": "python",
   "pygments_lexer": "ipython3",
   "version": "3.12.7"
  }
 },
 "nbformat": 4,
 "nbformat_minor": 5
}
