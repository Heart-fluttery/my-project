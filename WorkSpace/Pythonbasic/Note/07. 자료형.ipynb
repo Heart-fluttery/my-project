{
 "cells": [
  {
   "cell_type": "markdown",
   "id": "61159c1a",
   "metadata": {},
   "source": [
    "### 자료형의 참과 거짓\n",
    "- 문자열인 경우 : \"\" 안에 data가 없으면 거짓, data가 있으면 참\n",
    "- 리스트인 경우 : [] ---> 위와 동일\n",
    "- 튜플인 경우 : () ----> 위와 동일\n",
    "- 딕셔너리인 경우 : {} ---> 위와 동알\n",
    "- 숫자인 경우 : 0이면 거짓, 0이 아닌 숫자는 참"
   ]
  },
  {
   "cell_type": "code",
   "execution_count": 2,
   "id": "a28fd205",
   "metadata": {},
   "outputs": [
    {
     "name": "stdout",
     "output_type": "stream",
     "text": [
      "4\n",
      "3\n",
      "2\n",
      "1\n"
     ]
    },
    {
     "data": {
      "text/plain": [
       "[]"
      ]
     },
     "execution_count": 2,
     "metadata": {},
     "output_type": "execute_result"
    }
   ],
   "source": [
    "var = [1,2,3,4]\n",
    "while(var):\n",
    "    print(var.pop()) #var에 데이터가 있어서 true로 계속 실행\n",
    "var"
   ]
  },
  {
   "cell_type": "code",
   "execution_count": 3,
   "id": "7cc1db2d",
   "metadata": {},
   "outputs": [
    {
     "name": "stdout",
     "output_type": "stream",
     "text": [
      "1 2\n"
     ]
    }
   ],
   "source": [
    "# 튜플을 이용한 변수 생성\n",
    "var01, var02 = 1, 2\n",
    "print(var01, var02)"
   ]
  },
  {
   "cell_type": "code",
   "execution_count": 7,
   "id": "67c3ba88",
   "metadata": {},
   "outputs": [],
   "source": [
    "var01 = var02 = 1"
   ]
  },
  {
   "cell_type": "code",
   "execution_count": 9,
   "id": "8c0cd5f0",
   "metadata": {},
   "outputs": [
    {
     "name": "stdout",
     "output_type": "stream",
     "text": [
      "20 10\n"
     ]
    }
   ],
   "source": [
    "# 변수 값 교환\n",
    "\n",
    "num1 = 10\n",
    "num2 = 20\n",
    "\n",
    "# temp = num1\n",
    "# num1 = num2\n",
    "# num2 = temp \n",
    "# 튜플이 없는 언어의 경우\n",
    "\n",
    "num1, num2 = num2, num1\n",
    "print(num1, num2)"
   ]
  },
  {
   "cell_type": "markdown",
   "id": "6fc800d0",
   "metadata": {},
   "source": [
    "### 자료형 변환"
   ]
  },
  {
   "cell_type": "code",
   "execution_count": 16,
   "id": "6ebf95d2",
   "metadata": {},
   "outputs": [
    {
     "name": "stdout",
     "output_type": "stream",
     "text": [
      "123\n"
     ]
    }
   ],
   "source": [
    "# 문자열을 정수로 변환하기\n",
    "\n",
    "str_num = '123'\n",
    "int_num =  int(str_num)\n",
    "print(int_num)"
   ]
  },
  {
   "cell_type": "code",
   "execution_count": 11,
   "id": "25f6c145",
   "metadata": {},
   "outputs": [
    {
     "name": "stdout",
     "output_type": "stream",
     "text": [
      "123.456\n"
     ]
    }
   ],
   "source": [
    "# 문자열을 실수로 변환하기\n",
    "str_num = \"123.456\"\n",
    "float_num = float(str_num)\n",
    "print(float_num)"
   ]
  },
  {
   "cell_type": "code",
   "execution_count": 14,
   "id": "b79283b3",
   "metadata": {},
   "outputs": [
    {
     "data": {
      "text/plain": [
       "'123'"
      ]
     },
     "execution_count": 14,
     "metadata": {},
     "output_type": "execute_result"
    }
   ],
   "source": [
    "# 정수를 문자로 변환하기\n",
    "int_num = 123\n",
    "str_num = str(int_num)\n",
    "str_num"
   ]
  },
  {
   "cell_type": "code",
   "execution_count": 17,
   "id": "88137b87",
   "metadata": {},
   "outputs": [
    {
     "data": {
      "text/plain": [
       "123.0"
      ]
     },
     "execution_count": 17,
     "metadata": {},
     "output_type": "execute_result"
    }
   ],
   "source": [
    "# 정수를 실수로 변환\n",
    "int_num = 123\n",
    "float_num = float(int_num)\n",
    "float_num"
   ]
  },
  {
   "cell_type": "code",
   "execution_count": 18,
   "id": "7ab521a1",
   "metadata": {},
   "outputs": [
    {
     "data": {
      "text/plain": [
       "123"
      ]
     },
     "execution_count": 18,
     "metadata": {},
     "output_type": "execute_result"
    }
   ],
   "source": [
    "# 실수를 정수로 변환\n",
    "float_num = 123.456\n",
    "int_num = int(float_num)\n",
    "int_num"
   ]
  },
  {
   "cell_type": "code",
   "execution_count": null,
   "id": "05a31f49",
   "metadata": {},
   "outputs": [],
   "source": []
  }
 ],
 "metadata": {
  "kernelspec": {
   "display_name": "base",
   "language": "python",
   "name": "python3"
  },
  "language_info": {
   "codemirror_mode": {
    "name": "ipython",
    "version": 3
   },
   "file_extension": ".py",
   "mimetype": "text/x-python",
   "name": "python",
   "nbconvert_exporter": "python",
   "pygments_lexer": "ipython3",
   "version": "3.12.7"
  }
 },
 "nbformat": 4,
 "nbformat_minor": 5
}
