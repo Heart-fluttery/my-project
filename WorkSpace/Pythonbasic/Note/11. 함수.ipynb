{
 "cells": [
  {
   "cell_type": "markdown",
   "id": "cb7e47ea",
   "metadata": {},
   "source": [
    "### 함수"
   ]
  },
  {
   "cell_type": "markdown",
   "id": "16bd8ce0",
   "metadata": {},
   "source": [
    "### numpy 내장 함수"
   ]
  },
  {
   "cell_type": "code",
   "execution_count": 3,
   "id": "125caa32",
   "metadata": {},
   "outputs": [],
   "source": [
    "import numpy as np"
   ]
  },
  {
   "cell_type": "code",
   "execution_count": 4,
   "id": "244d8875",
   "metadata": {},
   "outputs": [
    {
     "data": {
      "text/plain": [
       "5.5"
      ]
     },
     "execution_count": 4,
     "metadata": {},
     "output_type": "execute_result"
    }
   ],
   "source": [
    "# 평균 구하기\n",
    "np.mean(range(1, 10+1))"
   ]
  },
  {
   "cell_type": "code",
   "execution_count": 5,
   "id": "138a9fc4",
   "metadata": {},
   "outputs": [
    {
     "data": {
      "text/plain": [
       "55"
      ]
     },
     "execution_count": 5,
     "metadata": {},
     "output_type": "execute_result"
    }
   ],
   "source": [
    "# 합계 구하기\n",
    "np.sum(range(1, 10+1))"
   ]
  },
  {
   "cell_type": "code",
   "execution_count": 6,
   "id": "a7f44282",
   "metadata": {},
   "outputs": [
    {
     "data": {
      "text/plain": [
       "8.25"
      ]
     },
     "execution_count": 6,
     "metadata": {},
     "output_type": "execute_result"
    }
   ],
   "source": [
    "# 분산 구하기\n",
    "np.var(range(1, 10+1))"
   ]
  },
  {
   "cell_type": "code",
   "execution_count": 7,
   "id": "520ce2fd",
   "metadata": {},
   "outputs": [
    {
     "data": {
      "text/plain": [
       "2.8722813232690143"
      ]
     },
     "execution_count": 7,
     "metadata": {},
     "output_type": "execute_result"
    }
   ],
   "source": [
    "# 표준 편차 구하기\n",
    "np.std(range(1, 10+1))"
   ]
  },
  {
   "cell_type": "code",
   "execution_count": 8,
   "id": "f05c9611",
   "metadata": {},
   "outputs": [
    {
     "data": {
      "text/plain": [
       "10"
      ]
     },
     "execution_count": 8,
     "metadata": {},
     "output_type": "execute_result"
    }
   ],
   "source": [
    "# 최대값 구하기\n",
    "np.max(range(1, 10+1))"
   ]
  },
  {
   "cell_type": "code",
   "execution_count": 9,
   "id": "aaf0b348",
   "metadata": {},
   "outputs": [
    {
     "data": {
      "text/plain": [
       "1"
      ]
     },
     "execution_count": 9,
     "metadata": {},
     "output_type": "execute_result"
    }
   ],
   "source": [
    "# 최소값 구하기\n",
    "np.min(range(1, 10+1))"
   ]
  },
  {
   "cell_type": "code",
   "execution_count": 10,
   "id": "92566f36",
   "metadata": {},
   "outputs": [
    {
     "data": {
      "text/plain": [
       "5.5"
      ]
     },
     "execution_count": 10,
     "metadata": {},
     "output_type": "execute_result"
    }
   ],
   "source": [
    "# 중앙값 구하기\n",
    "np.median(range(1, 10+1))"
   ]
  },
  {
   "cell_type": "code",
   "execution_count": 12,
   "id": "7177a6a3",
   "metadata": {},
   "outputs": [
    {
     "name": "stdout",
     "output_type": "stream",
     "text": [
      "6.571428571428571\n",
      "1.0\n"
     ]
    }
   ],
   "source": [
    "var = [1,1,1,1,1,1,40]\n",
    "print(np.mean(var))\n",
    "print(np.median(var))"
   ]
  },
  {
   "cell_type": "code",
   "execution_count": 18,
   "id": "0f5e948c",
   "metadata": {},
   "outputs": [
    {
     "data": {
      "text/plain": [
       "array([ 1,  3,  6, 10, 15, 21, 28, 36, 45, 55])"
      ]
     },
     "execution_count": 18,
     "metadata": {},
     "output_type": "execute_result"
    }
   ],
   "source": [
    "# 누적합\n",
    "np.cumsum(range(1, 10+1)) #array([ 1,  3,  6, 10, 15, 21, 28, 36, 45, 55])\n",
    "# np.cumsum(range(1, 10+1))[-1] # 55"
   ]
  },
  {
   "cell_type": "code",
   "execution_count": 19,
   "id": "b8433b3b",
   "metadata": {},
   "outputs": [
    {
     "data": {
      "text/plain": [
       "array([      1,       2,       6,      24,     120,     720,    5040,\n",
       "         40320,  362880, 3628800])"
      ]
     },
     "execution_count": 19,
     "metadata": {},
     "output_type": "execute_result"
    }
   ],
   "source": [
    "# 누적곱\n",
    "np.cumprod(range(1, 10+1))"
   ]
  },
  {
   "cell_type": "markdown",
   "id": "8dd9847b",
   "metadata": {},
   "source": [
    "---\n",
    "### 사용자 정의 함수"
   ]
  },
  {
   "cell_type": "code",
   "execution_count": null,
   "id": "9b8a8e0d",
   "metadata": {},
   "outputs": [],
   "source": [
    "# 매개변수가 없는 함수\n",
    "def hiF():\n",
    "    return('Hi')"
   ]
  },
  {
   "cell_type": "code",
   "execution_count": 23,
   "id": "8a3fdb41",
   "metadata": {},
   "outputs": [
    {
     "name": "stdout",
     "output_type": "stream",
     "text": [
      "Hi\n"
     ]
    }
   ],
   "source": [
    "a = hiF()\n",
    "print(a)"
   ]
  },
  {
   "cell_type": "code",
   "execution_count": 25,
   "id": "8cd93d92",
   "metadata": {},
   "outputs": [],
   "source": [
    "# 매개변수가 있는 함수\n",
    "def testF(num1, num2):\n",
    "    return num1 + num2, num1 - num2"
   ]
  },
  {
   "cell_type": "code",
   "execution_count": 28,
   "id": "c89bc43a",
   "metadata": {},
   "outputs": [
    {
     "name": "stdout",
     "output_type": "stream",
     "text": [
      "5 -1\n"
     ]
    }
   ],
   "source": [
    "add, subtract = testF(2,3)\n",
    "print(add, subtract)"
   ]
  },
  {
   "cell_type": "code",
   "execution_count": 47,
   "id": "b376daf5",
   "metadata": {},
   "outputs": [],
   "source": [
    "# 가변 길이 인수를 가진 함수 (unpacking 연산자)\n",
    "def sumManyF(*nums):\n",
    "    sum = 0\n",
    "    for i in nums:\n",
    "        sum += i\n",
    "    return sum"
   ]
  },
  {
   "cell_type": "code",
   "execution_count": 48,
   "id": "e8343960",
   "metadata": {},
   "outputs": [
    {
     "name": "stdout",
     "output_type": "stream",
     "text": [
      "6\n",
      "36\n"
     ]
    }
   ],
   "source": [
    "print(sumManyF(1,2,3))\n",
    "print(sumManyF(1,2,3,4,5,6,7,8))"
   ]
  },
  {
   "cell_type": "code",
   "execution_count": 33,
   "id": "38d8e6f3",
   "metadata": {},
   "outputs": [],
   "source": [
    "# 가변길이 키워드 매개변수\n",
    "def print_items(**nums):\n",
    "    for k, v in nums.items():\n",
    "        print(k, v)"
   ]
  },
  {
   "cell_type": "code",
   "execution_count": 34,
   "id": "12975184",
   "metadata": {},
   "outputs": [
    {
     "name": "stdout",
     "output_type": "stream",
     "text": [
      "a 1\n",
      "b 2\n"
     ]
    }
   ],
   "source": [
    "print_items(a=1,b=2)"
   ]
  },
  {
   "cell_type": "markdown",
   "id": "9a199161",
   "metadata": {},
   "source": [
    "---\n",
    "### 내장함수를 이용한 함수 만들기"
   ]
  },
  {
   "cell_type": "code",
   "execution_count": 35,
   "id": "376999a0",
   "metadata": {},
   "outputs": [],
   "source": [
    "def sumManyF2(*inputValue):\n",
    "    return np.max(inputValue) - np.min(inputValue)"
   ]
  },
  {
   "cell_type": "code",
   "execution_count": 36,
   "id": "7c58e659",
   "metadata": {},
   "outputs": [
    {
     "data": {
      "text/plain": [
       "6"
      ]
     },
     "execution_count": 36,
     "metadata": {},
     "output_type": "execute_result"
    }
   ],
   "source": [
    "sumManyF2(1,2,3,4,5,6,7)"
   ]
  },
  {
   "cell_type": "code",
   "execution_count": 37,
   "id": "fa1d7052",
   "metadata": {},
   "outputs": [],
   "source": [
    "### Ex: 구구단에서 단과 곱해지는 수를 리스트로 입력하여 출력하기"
   ]
  },
  {
   "cell_type": "code",
   "execution_count": 107,
   "id": "084331f6",
   "metadata": {},
   "outputs": [],
   "source": [
    "def gugu(*value):\n",
    "    for dan in value[0]:\n",
    "        for num in value[1]:\n",
    "            print(f\"{dan} * {num} = {dan*num}\")\n",
    "        print(f\"{\"-\"*10}\")"
   ]
  },
  {
   "cell_type": "code",
   "execution_count": 108,
   "id": "a1f92efa",
   "metadata": {},
   "outputs": [
    {
     "name": "stdout",
     "output_type": "stream",
     "text": [
      "2 * 6 = 12\n",
      "2 * 7 = 14\n",
      "2 * 8 = 16\n",
      "2 * 9 = 18\n",
      "----------\n",
      "5 * 6 = 30\n",
      "5 * 7 = 35\n",
      "5 * 8 = 40\n",
      "5 * 9 = 45\n",
      "----------\n",
      "8 * 6 = 48\n",
      "8 * 7 = 56\n",
      "8 * 8 = 64\n",
      "8 * 9 = 72\n",
      "----------\n"
     ]
    }
   ],
   "source": [
    "x = [2,5,8]\n",
    "y= [6,7,8,9]\n",
    "gugu(x,y)"
   ]
  },
  {
   "cell_type": "markdown",
   "id": "c9a364b6",
   "metadata": {},
   "source": [
    "### 덧셈 기능과 곱셈 기능을 구분하여 숫자의 결과를 보여주는 함수"
   ]
  },
  {
   "cell_type": "code",
   "execution_count": 103,
   "id": "587322a4",
   "metadata": {},
   "outputs": [],
   "source": [
    "def sum_mulF(str, *nums):\n",
    "    if str == 'sum':\n",
    "        print(np.cumsum(nums)[-1])\n",
    "    elif str == 'mul':\n",
    "        print(np.cumprod(nums)[-1])\n",
    "    else:\n",
    "        print(\"What are you talking about?\")"
   ]
  },
  {
   "cell_type": "code",
   "execution_count": 104,
   "id": "bb03aeab",
   "metadata": {},
   "outputs": [
    {
     "name": "stdout",
     "output_type": "stream",
     "text": [
      "15\n",
      "120\n",
      "What are you talking about?\n"
     ]
    }
   ],
   "source": [
    "sum_mulF('sum', 1,2,3,4,5) # 15\n",
    "sum_mulF('mul', 1,2,3,4,5) # 120\n",
    "sum_mulF('add', 1,2,3,4,5) # What are you talking about?"
   ]
  },
  {
   "cell_type": "code",
   "execution_count": 112,
   "id": "5cda16e0",
   "metadata": {},
   "outputs": [],
   "source": [
    "# 특정한 결과값을 무시하고 싶은 경우"
   ]
  },
  {
   "cell_type": "code",
   "execution_count": 114,
   "id": "d2482a94",
   "metadata": {},
   "outputs": [],
   "source": [
    "def say_nickF(nick):\n",
    "    if nick == \"바보\":\n",
    "        return\n",
    "    return(f\"나의 별명은 {nick} 입니다.\")"
   ]
  },
  {
   "cell_type": "code",
   "execution_count": 115,
   "id": "7737a42b",
   "metadata": {},
   "outputs": [
    {
     "name": "stdout",
     "output_type": "stream",
     "text": [
      "나의 별명은 천재 입니다.\n"
     ]
    }
   ],
   "source": [
    "print(say_nickF(\"천재\"))"
   ]
  },
  {
   "cell_type": "code",
   "execution_count": 116,
   "id": "528c6278",
   "metadata": {},
   "outputs": [
    {
     "name": "stdout",
     "output_type": "stream",
     "text": [
      "None\n"
     ]
    }
   ],
   "source": [
    "print(say_nickF(\"바보\"))"
   ]
  },
  {
   "cell_type": "markdown",
   "id": "8a95bf15",
   "metadata": {},
   "source": [
    "### 함수에 초기값(default value) 설정하기"
   ]
  },
  {
   "cell_type": "code",
   "execution_count": 118,
   "id": "84afc51d",
   "metadata": {},
   "outputs": [],
   "source": [
    "def say_myself(name, old, gender = True):\n",
    "    print(f\"나의 이름은 {name}입니다.\")\n",
    "    print(f\"나이는 {old}살 입니다.\")\n",
    "    print(\"남자 입니다.\" if gender else \"여자 입니다.\")"
   ]
  },
  {
   "cell_type": "code",
   "execution_count": 119,
   "id": "3b007844",
   "metadata": {},
   "outputs": [
    {
     "name": "stdout",
     "output_type": "stream",
     "text": [
      "나의 이름은 유비입니다.\n",
      "나이는 30살 입니다.\n",
      "남자 입니다.\n"
     ]
    }
   ],
   "source": [
    "say_myself(\"유비\", 30)"
   ]
  },
  {
   "cell_type": "code",
   "execution_count": 120,
   "id": "c5c28296",
   "metadata": {},
   "outputs": [
    {
     "name": "stdout",
     "output_type": "stream",
     "text": [
      "나의 이름은 관우입니다.\n",
      "나이는 30살 입니다.\n",
      "남자 입니다.\n"
     ]
    }
   ],
   "source": [
    "say_myself(\"관우\", 30, True)"
   ]
  },
  {
   "cell_type": "code",
   "execution_count": 121,
   "id": "66721b39",
   "metadata": {},
   "outputs": [
    {
     "name": "stdout",
     "output_type": "stream",
     "text": [
      "나의 이름은 초선입니다.\n",
      "나이는 30살 입니다.\n",
      "여자 입니다.\n"
     ]
    }
   ],
   "source": [
    "say_myself(\"초선\", 30, False)"
   ]
  },
  {
   "cell_type": "code",
   "execution_count": 122,
   "id": "ee11431c",
   "metadata": {},
   "outputs": [],
   "source": [
    "x = 0\n",
    "\n",
    "def func1():\n",
    "    x = 1\n",
    "    print(x)\n",
    "\n",
    "def func2():\n",
    "    print(x)"
   ]
  },
  {
   "cell_type": "code",
   "execution_count": 123,
   "id": "5bb9764d",
   "metadata": {},
   "outputs": [
    {
     "name": "stdout",
     "output_type": "stream",
     "text": [
      "1\n"
     ]
    }
   ],
   "source": [
    "func1()"
   ]
  },
  {
   "cell_type": "code",
   "execution_count": 124,
   "id": "1bfca514",
   "metadata": {},
   "outputs": [
    {
     "name": "stdout",
     "output_type": "stream",
     "text": [
      "0\n"
     ]
    }
   ],
   "source": [
    "func2()"
   ]
  },
  {
   "cell_type": "code",
   "execution_count": 125,
   "id": "8e57fb18",
   "metadata": {},
   "outputs": [],
   "source": [
    "x = 0\n",
    "\n",
    "def func1():\n",
    "    global x\n",
    "    x = 1\n",
    "    print(x)\n",
    "\n",
    "def func2():\n",
    "    print(x)"
   ]
  },
  {
   "cell_type": "code",
   "execution_count": 126,
   "id": "d74fd0bf",
   "metadata": {},
   "outputs": [
    {
     "name": "stdout",
     "output_type": "stream",
     "text": [
      "1\n"
     ]
    }
   ],
   "source": [
    "func1()"
   ]
  },
  {
   "cell_type": "code",
   "execution_count": 127,
   "id": "9f657563",
   "metadata": {},
   "outputs": [
    {
     "name": "stdout",
     "output_type": "stream",
     "text": [
      "1\n"
     ]
    }
   ],
   "source": [
    "func2()"
   ]
  },
  {
   "cell_type": "markdown",
   "id": "1d9ea052",
   "metadata": {},
   "source": [
    "### Ex\n",
    "원의 면적과 둘레를 구하는 함수"
   ]
  },
  {
   "cell_type": "code",
   "execution_count": 128,
   "id": "2d2c8f73",
   "metadata": {},
   "outputs": [],
   "source": [
    "import math"
   ]
  },
  {
   "cell_type": "code",
   "execution_count": 139,
   "id": "c887a05a",
   "metadata": {},
   "outputs": [],
   "source": [
    "#면적 pier^2 둘레 2pier \n",
    "def circle_area_length(r):\n",
    "    area = 3.14*r**2\n",
    "    length = 2*3.14*r\n",
    "    return area, length"
   ]
  },
  {
   "cell_type": "code",
   "execution_count": 140,
   "id": "a829d27a",
   "metadata": {},
   "outputs": [
    {
     "name": "stdout",
     "output_type": "stream",
     "text": [
      "78.5, 31.4\n"
     ]
    }
   ],
   "source": [
    "area, length = circle_area_length(5)\n",
    "print(f\"{area:.8}, {length:.8}\")"
   ]
  },
  {
   "cell_type": "markdown",
   "id": "85d30319",
   "metadata": {},
   "source": [
    "---\n",
    "### 람다(lambda) 함수\n",
    "- 보통 함수를 한 줄로 간결하게 만들 때 사용\n",
    "- return이 없다. (안 써도 return)"
   ]
  },
  {
   "cell_type": "code",
   "execution_count": 141,
   "id": "8ce5c0fb",
   "metadata": {},
   "outputs": [],
   "source": [
    "def addFunction(a,b):\n",
    "    return a+b"
   ]
  },
  {
   "cell_type": "code",
   "execution_count": 143,
   "id": "7e3a1a18",
   "metadata": {},
   "outputs": [
    {
     "data": {
      "text/plain": [
       "30"
      ]
     },
     "execution_count": 143,
     "metadata": {},
     "output_type": "execute_result"
    }
   ],
   "source": [
    "# 위의 함수를 람다함수로 변환\n",
    "addLambda = lambda a, b : a + b\n",
    "addLambda(10, 20)"
   ]
  },
  {
   "cell_type": "markdown",
   "id": "e21df59c",
   "metadata": {},
   "source": [
    "### 중첩 함수(nested function) / 내부 함수(inner funtion)\n",
    ": 함수 안에서 다른 함수를 정의"
   ]
  },
  {
   "cell_type": "code",
   "execution_count": 159,
   "id": "d813d815",
   "metadata": {},
   "outputs": [],
   "source": [
    "def outer_function(x, y):\n",
    "    def inner_function(z):\n",
    "        return x + y + z\n",
    "    return inner_function"
   ]
  },
  {
   "cell_type": "code",
   "execution_count": 160,
   "id": "6e833cc8",
   "metadata": {},
   "outputs": [
    {
     "name": "stdout",
     "output_type": "stream",
     "text": [
      "6\n"
     ]
    }
   ],
   "source": [
    "result = outer_function(1, 2)\n",
    "print(result(3))"
   ]
  },
  {
   "cell_type": "markdown",
   "id": "41d0fcde",
   "metadata": {},
   "source": [
    "---\n",
    "### 재귀(Recursion)\n",
    ": 계산을 위해 자기 자신을 참조하는 방법"
   ]
  },
  {
   "cell_type": "markdown",
   "id": "461f1ee6",
   "metadata": {},
   "source": [
    "Factorial 함수"
   ]
  },
  {
   "cell_type": "code",
   "execution_count": 150,
   "id": "ea351ff4",
   "metadata": {},
   "outputs": [],
   "source": [
    "# 반복 방식 / 가정) n은 0보다 큰 정수\n",
    "def fact_iter(n):\n",
    "    result = 1\n",
    "    for i in range(1, n+1):\n",
    "        result *= i\n",
    "    return result"
   ]
  },
  {
   "cell_type": "code",
   "execution_count": 151,
   "id": "4998aefc",
   "metadata": {},
   "outputs": [
    {
     "name": "stdout",
     "output_type": "stream",
     "text": [
      "24\n"
     ]
    }
   ],
   "source": [
    "print(fact_iter(4))"
   ]
  },
  {
   "cell_type": "code",
   "execution_count": 152,
   "id": "5d354ee6",
   "metadata": {},
   "outputs": [],
   "source": [
    "# 재귀 방식의 하수\n",
    "def fact_rec(n):\n",
    "    if n==1:\n",
    "        return n\n",
    "    else:\n",
    "        return n * fact_rec(n-1)"
   ]
  },
  {
   "cell_type": "code",
   "execution_count": 153,
   "id": "83b4160c",
   "metadata": {},
   "outputs": [
    {
     "name": "stdout",
     "output_type": "stream",
     "text": [
      "24\n"
     ]
    }
   ],
   "source": [
    "print(fact_rec(4))"
   ]
  },
  {
   "cell_type": "code",
   "execution_count": null,
   "id": "639f1d24",
   "metadata": {},
   "outputs": [],
   "source": []
  }
 ],
 "metadata": {
  "kernelspec": {
   "display_name": "base",
   "language": "python",
   "name": "python3"
  },
  "language_info": {
   "codemirror_mode": {
    "name": "ipython",
    "version": 3
   },
   "file_extension": ".py",
   "mimetype": "text/x-python",
   "name": "python",
   "nbconvert_exporter": "python",
   "pygments_lexer": "ipython3",
   "version": "3.12.7"
  }
 },
 "nbformat": 4,
 "nbformat_minor": 5
}
