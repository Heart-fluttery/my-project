{
 "cells": [
  {
   "cell_type": "markdown",
   "id": "310d45a7",
   "metadata": {},
   "source": [
    "### Module\n",
    ": 함수, 변수, 클래스들을 모아 놓은 파일"
   ]
  },
  {
   "cell_type": "code",
   "execution_count": 11,
   "id": "97f76b2c",
   "metadata": {},
   "outputs": [],
   "source": [
    "import mod1"
   ]
  },
  {
   "cell_type": "code",
   "execution_count": 12,
   "id": "aae217db",
   "metadata": {},
   "outputs": [
    {
     "ename": "AttributeError",
     "evalue": "module 'mod1' has no attribute 'sum'",
     "output_type": "error",
     "traceback": [
      "\u001b[0;31m---------------------------------------------------------------------------\u001b[0m",
      "\u001b[0;31mAttributeError\u001b[0m                            Traceback (most recent call last)",
      "Cell \u001b[0;32mIn[12], line 1\u001b[0m\n\u001b[0;32m----> 1\u001b[0m \u001b[38;5;28mprint\u001b[39m(mod1\u001b[38;5;241m.\u001b[39msum(\u001b[38;5;241m3\u001b[39m,\u001b[38;5;241m4\u001b[39m))\n",
      "\u001b[0;31mAttributeError\u001b[0m: module 'mod1' has no attribute 'sum'"
     ]
    }
   ],
   "source": [
    "print(mod1.sum(3,4))"
   ]
  },
  {
   "cell_type": "code",
   "execution_count": 5,
   "id": "959ba185",
   "metadata": {},
   "outputs": [],
   "source": [
    "import mod2"
   ]
  },
  {
   "cell_type": "code",
   "execution_count": 6,
   "id": "b17e8ed3",
   "metadata": {},
   "outputs": [
    {
     "name": "stdout",
     "output_type": "stream",
     "text": [
      "더하기를 할 수 없습니다.\n",
      "None\n"
     ]
    }
   ],
   "source": [
    "print(mod2.sum('a', 1))"
   ]
  },
  {
   "cell_type": "code",
   "execution_count": 7,
   "id": "42c76403",
   "metadata": {},
   "outputs": [
    {
     "name": "stdout",
     "output_type": "stream",
     "text": [
      "30\n"
     ]
    }
   ],
   "source": [
    "print(mod2.sum(10, 20))"
   ]
  },
  {
   "cell_type": "code",
   "execution_count": 8,
   "id": "86b327a7",
   "metadata": {},
   "outputs": [
    {
     "name": "stdout",
     "output_type": "stream",
     "text": [
      "ab\n"
     ]
    }
   ],
   "source": [
    "print(mod2.sum('a','b'))"
   ]
  },
  {
   "cell_type": "code",
   "execution_count": 10,
   "id": "8eda785b",
   "metadata": {},
   "outputs": [
    {
     "data": {
      "text/plain": [
       "11"
      ]
     },
     "execution_count": 10,
     "metadata": {},
     "output_type": "execute_result"
    }
   ],
   "source": [
    "from mod2 import sum\n",
    "sum(5,6)"
   ]
  },
  {
   "cell_type": "markdown",
   "id": "56ec59a2",
   "metadata": {},
   "source": [
    "### 많이 사용되는 Alias name\n",
    "- import numpy as np\n",
    "- import pandas as pd\n",
    "- import matplotlib.pyplot as plt\n",
    "- import tensorflow as tf\n",
    "- import seaborn as sns\n",
    "- import torch as pt"
   ]
  },
  {
   "cell_type": "code",
   "execution_count": null,
   "id": "1009b298",
   "metadata": {},
   "outputs": [],
   "source": []
  }
 ],
 "metadata": {
  "kernelspec": {
   "display_name": "base",
   "language": "python",
   "name": "python3"
  },
  "language_info": {
   "codemirror_mode": {
    "name": "ipython",
    "version": 3
   },
   "file_extension": ".py",
   "mimetype": "text/x-python",
   "name": "python",
   "nbconvert_exporter": "python",
   "pygments_lexer": "ipython3",
   "version": "3.12.7"
  }
 },
 "nbformat": 4,
 "nbformat_minor": 5
}
