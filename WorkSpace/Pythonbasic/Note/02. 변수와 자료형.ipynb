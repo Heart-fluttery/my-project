{
 "cells": [
  {
   "cell_type": "code",
   "execution_count": 1,
   "id": "d58eb064",
   "metadata": {},
   "outputs": [],
   "source": [
    "var01 = 3\n",
    "var02 = 4"
   ]
  },
  {
   "cell_type": "code",
   "execution_count": 2,
   "id": "a9c6b18d",
   "metadata": {},
   "outputs": [
    {
     "name": "stdout",
     "output_type": "stream",
     "text": [
      "9 16\n",
      "9\n"
     ]
    }
   ],
   "source": [
    "# 거듭제곱\n",
    "\n",
    "print(var01 ** 2, var02 ** 2)\n",
    "print(pow(var01, 2))"
   ]
  },
  {
   "cell_type": "markdown",
   "id": "cb1d24e7",
   "metadata": {},
   "source": [
    "### 파이썬 모듈 을 이용한 수학 계산"
   ]
  },
  {
   "cell_type": "code",
   "execution_count": 3,
   "id": "b8d2f262",
   "metadata": {},
   "outputs": [],
   "source": [
    "import math # 수학 계산 모듈"
   ]
  },
  {
   "cell_type": "code",
   "execution_count": 4,
   "id": "80b33cac",
   "metadata": {},
   "outputs": [
    {
     "data": {
      "text/plain": [
       "9.0"
      ]
     },
     "execution_count": 4,
     "metadata": {},
     "output_type": "execute_result"
    }
   ],
   "source": [
    "# 거듭제곱\n",
    "\n",
    "math.pow(var01, 2)"
   ]
  },
  {
   "cell_type": "code",
   "execution_count": 5,
   "id": "1997a1a8",
   "metadata": {},
   "outputs": [
    {
     "data": {
      "text/plain": [
       "1.7320508075688772"
      ]
     },
     "execution_count": 5,
     "metadata": {},
     "output_type": "execute_result"
    }
   ],
   "source": [
    "# 제곱근\n",
    "math.sqrt(var01)"
   ]
  },
  {
   "cell_type": "code",
   "execution_count": 6,
   "id": "df7ddfeb",
   "metadata": {},
   "outputs": [
    {
     "data": {
      "text/plain": [
       "0.8509035245341184"
      ]
     },
     "execution_count": 6,
     "metadata": {},
     "output_type": "execute_result"
    }
   ],
   "source": [
    "# sin 45도\n",
    "math.sin(45)"
   ]
  },
  {
   "cell_type": "code",
   "execution_count": 7,
   "id": "76e1efd0",
   "metadata": {},
   "outputs": [
    {
     "data": {
      "text/plain": [
       "1.0"
      ]
     },
     "execution_count": 7,
     "metadata": {},
     "output_type": "execute_result"
    }
   ],
   "source": [
    "math.pow(math.sin(45), 2) + math.pow(math.cos(45), 2)"
   ]
  },
  {
   "cell_type": "markdown",
   "id": "32ee7caa",
   "metadata": {},
   "source": [
    "### 난수"
   ]
  },
  {
   "cell_type": "code",
   "execution_count": 8,
   "id": "5994ac44",
   "metadata": {},
   "outputs": [],
   "source": [
    "import random"
   ]
  },
  {
   "cell_type": "code",
   "execution_count": 42,
   "id": "017a44af",
   "metadata": {},
   "outputs": [
    {
     "data": {
      "text/plain": [
       "54"
      ]
     },
     "execution_count": 42,
     "metadata": {},
     "output_type": "execute_result"
    }
   ],
   "source": [
    "random.randint(1, 100)"
   ]
  },
  {
   "cell_type": "markdown",
   "id": "573ddb44",
   "metadata": {},
   "source": [
    "### 범위의 수\n",
    ": range(start, end+1, step)"
   ]
  },
  {
   "cell_type": "code",
   "execution_count": 54,
   "id": "5ff317b5",
   "metadata": {},
   "outputs": [
    {
     "name": "stdout",
     "output_type": "stream",
     "text": [
      "[1, 2, 3, 4, 5, 6, 7, 8, 9, 10]\n",
      "[1, 2, 3, 4, 5, 6, 7, 8, 9, 10]\n"
     ]
    }
   ],
   "source": [
    "var01 = [1,2,3,4,5,6,7,8,9,10]\n",
    "print(var01)\n",
    "print(list(range(1, 10+1)))"
   ]
  },
  {
   "cell_type": "code",
   "execution_count": 52,
   "id": "17fe8ff7",
   "metadata": {},
   "outputs": [
    {
     "data": {
      "text/plain": [
       "[10, 9, 8, 7, 6, 5, 4, 3, 2, 1]"
      ]
     },
     "execution_count": 52,
     "metadata": {},
     "output_type": "execute_result"
    }
   ],
   "source": [
    "list(range(10)) # 하나만 적으면 0부터 end까지\n",
    "list(range(10, 1-1, -1))"
   ]
  },
  {
   "cell_type": "markdown",
   "id": "1a4de11e",
   "metadata": {},
   "source": [
    "# 2~10까지 짝수만 출력"
   ]
  },
  {
   "cell_type": "code",
   "execution_count": 56,
   "id": "b429286b",
   "metadata": {},
   "outputs": [
    {
     "name": "stdout",
     "output_type": "stream",
     "text": [
      "[2, 4, 6, 8, 10]\n"
     ]
    }
   ],
   "source": [
    "print(list(range(2, 10+1, 2)))"
   ]
  },
  {
   "cell_type": "markdown",
   "id": "923ec8d9",
   "metadata": {},
   "source": [
    "# 10에서 2까지 짝수만 출력"
   ]
  },
  {
   "cell_type": "code",
   "execution_count": 57,
   "id": "96b0c7ba",
   "metadata": {},
   "outputs": [
    {
     "name": "stdout",
     "output_type": "stream",
     "text": [
      "[10, 8, 6, 4, 2]\n"
     ]
    }
   ],
   "source": [
    "print(list(range(10, 2-1, -2)))"
   ]
  },
  {
   "cell_type": "markdown",
   "id": "a4b122c2",
   "metadata": {},
   "source": [
    "### Sampling"
   ]
  },
  {
   "cell_type": "code",
   "execution_count": 58,
   "id": "79861ec5",
   "metadata": {},
   "outputs": [
    {
     "name": "stdout",
     "output_type": "stream",
     "text": [
      "[341, 830, 791, 463, 620, 740, 731, 324, 188, 865, 612, 35, 11, 18, 219, 511, 192, 682, 605, 954, 24, 243, 286, 449, 181, 337, 797, 538, 230, 185, 209, 985, 415, 309, 773, 30, 720, 123, 875, 743, 759, 935, 110, 907, 284, 973, 534, 204, 263, 829, 134, 21, 926, 224, 4, 1000, 194, 792, 25, 100, 680, 419, 649, 689, 651, 765, 385, 764, 132, 761, 713, 198, 513, 202, 439, 822, 956, 565, 234, 800, 117, 911, 306, 254, 499, 57, 894, 661, 568, 611, 632, 26, 73, 164, 249, 955, 240, 331, 149, 683]\n"
     ]
    }
   ],
   "source": [
    "list01 = range(1000+1)\n",
    "print(random.sample(list01, 100))"
   ]
  },
  {
   "cell_type": "markdown",
   "id": "e33f2041",
   "metadata": {},
   "source": [
    "# 로또 번호 생성하기"
   ]
  },
  {
   "cell_type": "code",
   "execution_count": 59,
   "id": "c0dd6ac9",
   "metadata": {},
   "outputs": [
    {
     "name": "stdout",
     "output_type": "stream",
     "text": [
      "[19, 37, 3, 15, 21, 30]\n"
     ]
    }
   ],
   "source": [
    "list02 = range(1, 45+1)\n",
    "print(random.sample(list02, 6))"
   ]
  },
  {
   "cell_type": "code",
   "execution_count": null,
   "id": "585e0c74",
   "metadata": {},
   "outputs": [
    {
     "name": "stdout",
     "output_type": "stream",
     "text": [
      "2\n",
      "4\n",
      "4\n"
     ]
    }
   ],
   "source": [
    "# 반올림 (.5 일 때 올렸을 때 숫자가 짝수면 올리고 홀수면 내림 그래서 안 씀)\n",
    "print(round(2.5))\n",
    "print(round(3.5))\n",
    "print(round(4.5))"
   ]
  },
  {
   "cell_type": "markdown",
   "id": "9bf27f8c",
   "metadata": {},
   "source": [
    "### 메모리에 있는 변수 보기"
   ]
  },
  {
   "cell_type": "code",
   "execution_count": 63,
   "id": "3348373f",
   "metadata": {},
   "outputs": [
    {
     "data": {
      "text/plain": [
       "['In',\n",
       " 'Out',\n",
       " '_',\n",
       " '_10',\n",
       " '_11',\n",
       " '_12',\n",
       " '_13',\n",
       " '_14',\n",
       " '_15',\n",
       " '_16',\n",
       " '_17',\n",
       " '_18',\n",
       " '_19',\n",
       " '_20',\n",
       " '_21',\n",
       " '_22',\n",
       " '_23',\n",
       " '_24',\n",
       " '_25',\n",
       " '_26',\n",
       " '_27',\n",
       " '_28',\n",
       " '_29',\n",
       " '_30',\n",
       " '_31',\n",
       " '_32',\n",
       " '_33',\n",
       " '_34',\n",
       " '_35',\n",
       " '_36',\n",
       " '_37',\n",
       " '_38',\n",
       " '_39',\n",
       " '_4',\n",
       " '_40',\n",
       " '_41',\n",
       " '_42',\n",
       " '_44',\n",
       " '_45',\n",
       " '_46',\n",
       " '_47',\n",
       " '_48',\n",
       " '_49',\n",
       " '_5',\n",
       " '_50',\n",
       " '_51',\n",
       " '_52',\n",
       " '_6',\n",
       " '_7',\n",
       " '__',\n",
       " '___',\n",
       " '__builtin__',\n",
       " '__builtins__',\n",
       " '__doc__',\n",
       " '__loader__',\n",
       " '__name__',\n",
       " '__package__',\n",
       " '__spec__',\n",
       " '__vsc_ipynb_file__',\n",
       " '_dh',\n",
       " '_i',\n",
       " '_i1',\n",
       " '_i10',\n",
       " '_i11',\n",
       " '_i12',\n",
       " '_i13',\n",
       " '_i14',\n",
       " '_i15',\n",
       " '_i16',\n",
       " '_i17',\n",
       " '_i18',\n",
       " '_i19',\n",
       " '_i2',\n",
       " '_i20',\n",
       " '_i21',\n",
       " '_i22',\n",
       " '_i23',\n",
       " '_i24',\n",
       " '_i25',\n",
       " '_i26',\n",
       " '_i27',\n",
       " '_i28',\n",
       " '_i29',\n",
       " '_i3',\n",
       " '_i30',\n",
       " '_i31',\n",
       " '_i32',\n",
       " '_i33',\n",
       " '_i34',\n",
       " '_i35',\n",
       " '_i36',\n",
       " '_i37',\n",
       " '_i38',\n",
       " '_i39',\n",
       " '_i4',\n",
       " '_i40',\n",
       " '_i41',\n",
       " '_i42',\n",
       " '_i43',\n",
       " '_i44',\n",
       " '_i45',\n",
       " '_i46',\n",
       " '_i47',\n",
       " '_i48',\n",
       " '_i49',\n",
       " '_i5',\n",
       " '_i50',\n",
       " '_i51',\n",
       " '_i52',\n",
       " '_i53',\n",
       " '_i54',\n",
       " '_i55',\n",
       " '_i56',\n",
       " '_i57',\n",
       " '_i58',\n",
       " '_i59',\n",
       " '_i6',\n",
       " '_i60',\n",
       " '_i61',\n",
       " '_i62',\n",
       " '_i63',\n",
       " '_i7',\n",
       " '_i8',\n",
       " '_i9',\n",
       " '_ih',\n",
       " '_ii',\n",
       " '_iii',\n",
       " '_oh',\n",
       " 'exit',\n",
       " 'get_ipython',\n",
       " 'list01',\n",
       " 'list02',\n",
       " 'math',\n",
       " 'open',\n",
       " 'quit',\n",
       " 'random',\n",
       " 'var01',\n",
       " 'var02']"
      ]
     },
     "execution_count": 63,
     "metadata": {},
     "output_type": "execute_result"
    }
   ],
   "source": [
    "dir()"
   ]
  },
  {
   "cell_type": "code",
   "execution_count": 64,
   "id": "412aef30",
   "metadata": {},
   "outputs": [],
   "source": [
    "# 메모리에서 var01 삭제\n",
    "del var01"
   ]
  },
  {
   "cell_type": "code",
   "execution_count": 66,
   "id": "63b4e9be",
   "metadata": {},
   "outputs": [],
   "source": [
    "# var01"
   ]
  },
  {
   "cell_type": "markdown",
   "id": "f4bca9fe",
   "metadata": {},
   "source": [
    "---\n",
    "### 관계연산자"
   ]
  },
  {
   "cell_type": "code",
   "execution_count": 67,
   "id": "aefc7d8f",
   "metadata": {},
   "outputs": [
    {
     "name": "stdout",
     "output_type": "stream",
     "text": [
      "False\n"
     ]
    }
   ],
   "source": [
    "num1 = 100\n",
    "num2 = 20\n",
    "\n",
    "# 동등비교\n",
    "print(num1 == num2)"
   ]
  },
  {
   "cell_type": "markdown",
   "id": "ae7b01a1",
   "metadata": {},
   "source": [
    "### 논리연산자"
   ]
  },
  {
   "cell_type": "code",
   "execution_count": null,
   "id": "9ac333d7",
   "metadata": {},
   "outputs": [
    {
     "name": "stdout",
     "output_type": "stream",
     "text": [
      "False\n",
      "True\n",
      "False\n"
     ]
    }
   ],
   "source": [
    "# And, Or 연산자 (&, | <= 사용하면 안됨, bit 연산자)\n",
    "print((num1 >= 50) and (num2 <= 10))\n",
    "print((num1 >= 50) or (num2 <= 10))\n",
    "\n",
    "# 부정 연산자 !는 터미널 명령어 쓸 때 사용함\n",
    "print(not(num1 >= 50))"
   ]
  },
  {
   "cell_type": "code",
   "execution_count": 73,
   "id": "ed8ce6c0",
   "metadata": {},
   "outputs": [
    {
     "name": "stdout",
     "output_type": "stream",
     "text": [
      "01. Preview.ipynb             02. 변수와 자료형.ipynb\n"
     ]
    }
   ],
   "source": [
    "!ls"
   ]
  },
  {
   "cell_type": "markdown",
   "id": "b4cd7d3a",
   "metadata": {},
   "source": [
    "---\n",
    "### 문자열 자료형"
   ]
  },
  {
   "cell_type": "code",
   "execution_count": 74,
   "id": "66cd4d52",
   "metadata": {},
   "outputs": [
    {
     "data": {
      "text/plain": [
       "'Hello World!'"
      ]
     },
     "execution_count": 74,
     "metadata": {},
     "output_type": "execute_result"
    }
   ],
   "source": [
    "var01 = \"Hello World!\"\n",
    "var01"
   ]
  },
  {
   "cell_type": "code",
   "execution_count": 77,
   "id": "d0e6ded5",
   "metadata": {},
   "outputs": [
    {
     "name": "stdout",
     "output_type": "stream",
     "text": [
      "\n",
      "    Hello World!\n",
      "        Good to meet you!\n",
      "\n"
     ]
    }
   ],
   "source": [
    "# 여러줄의 문자열\n",
    "var01 =\"\"\"\n",
    "    Hello World!\n",
    "        Good to meet you!\n",
    "\"\"\"\n",
    "var01\n",
    "print(var01)"
   ]
  },
  {
   "cell_type": "code",
   "execution_count": 79,
   "id": "af0c5d73",
   "metadata": {},
   "outputs": [
    {
     "name": "stdout",
     "output_type": "stream",
     "text": [
      "My father's wife is my mother.\n",
      "He says \"I love you.\"\n"
     ]
    }
   ],
   "source": [
    "# 쌍따옴표와 홑따옴표의 사용\n",
    "var01 = \"My father's wife is my mother.\"\n",
    "var02 = 'He says \"I love you.\"'\n",
    "\n",
    "print(var01)\n",
    "print(var02)"
   ]
  },
  {
   "cell_type": "code",
   "execution_count": 81,
   "id": "ded0a617",
   "metadata": {},
   "outputs": [
    {
     "name": "stdout",
     "output_type": "stream",
     "text": [
      "aaa\n",
      "bbb ccc\tddd\n"
     ]
    }
   ],
   "source": [
    "# 특수 문자\n",
    "var03 = 'aaa\\nbbb'\n",
    "var04 = 'ccc\\tddd'\n",
    "print(var03, var04)"
   ]
  },
  {
   "cell_type": "code",
   "execution_count": 83,
   "id": "3ee40c95",
   "metadata": {},
   "outputs": [
    {
     "name": "stdout",
     "output_type": "stream",
     "text": [
      "Pythonis fun.\n",
      "Python is fun.\n"
     ]
    }
   ],
   "source": [
    "# 문자열 연산\n",
    "var01 = \"Python\"\n",
    "var02 = \"is fun.\"\n",
    "print(var01 + var02)\n",
    "print(var01, var02)"
   ]
  },
  {
   "cell_type": "code",
   "execution_count": 84,
   "id": "b5bbee12",
   "metadata": {},
   "outputs": [
    {
     "name": "stdout",
     "output_type": "stream",
     "text": [
      "PythonPythonPython\n"
     ]
    }
   ],
   "source": [
    "# 문자열 연산(곱셈)\n",
    "var01 = \"Python\"\n",
    "print(var01 * 3)"
   ]
  },
  {
   "cell_type": "code",
   "execution_count": 86,
   "id": "7b6f026f",
   "metadata": {},
   "outputs": [
    {
     "name": "stdout",
     "output_type": "stream",
     "text": [
      "====================\n",
      "\tPython\n",
      "====================\n"
     ]
    }
   ],
   "source": [
    "print(\"=\" * 20)\n",
    "print(\"\\tPython\")\n",
    "print(\"=\" * 20)"
   ]
  },
  {
   "cell_type": "code",
   "execution_count": 103,
   "id": "1f63ada3",
   "metadata": {},
   "outputs": [
    {
     "name": "stdout",
     "output_type": "stream",
     "text": [
      "\n",
      "*********************\n",
      "Python\t\t파이썬\n",
      "*********************\n",
      "홍길동과\t\t고길동\n",
      "*********************\n",
      "햄버거와\t\t햄부기\n",
      "*********************\n",
      "\n"
     ]
    }
   ],
   "source": [
    "print(\"\",\"Python\\t\\t파이썬\", \"홍길동과\\t\\t고길동\", \"햄버거와\\t\\t햄부기\", \"\", sep=\"\\n\"+\"*\"*21+\"\\n\")"
   ]
  },
  {
   "cell_type": "markdown",
   "id": "40ec26fe",
   "metadata": {},
   "source": [
    "### 문자열 indexing과 slicing"
   ]
  },
  {
   "cell_type": "code",
   "execution_count": 112,
   "id": "46767552",
   "metadata": {},
   "outputs": [
    {
     "name": "stdout",
     "output_type": "stream",
     "text": [
      "a\n",
      "abc\n",
      "abc\n",
      "fghijklmn\n",
      "abcde\n",
      "abc\n",
      "n\n",
      "fghijkl\n"
     ]
    }
   ],
   "source": [
    "str = \"abcdefghijklmn\"\n",
    "\n",
    "print(str[0])\n",
    "print(str[0:2+1])\n",
    "print(str[:2+1])\n",
    "print(str[5:])\n",
    "print(str[:5])\n",
    "print(str[0] + str[1] + str[2])\n",
    "print(str[-1])\n",
    "print(str[5:-2])"
   ]
  },
  {
   "cell_type": "code",
   "execution_count": 117,
   "id": "00d3d204",
   "metadata": {},
   "outputs": [
    {
     "name": "stdout",
     "output_type": "stream",
     "text": [
      "2020년 12월 29일 날씨 : Snow\n"
     ]
    }
   ],
   "source": [
    "str = \"20201229Snow\"\n",
    "year = str[:4]\n",
    "month = str[4:6]\n",
    "day = str[6:8]\n",
    "weather = str[-4:]\n",
    "print(year+\"년\", month+\"월\", day+\"일\", \"날씨 : \"+weather) # 2020 1229 Snow"
   ]
  },
  {
   "cell_type": "code",
   "execution_count": 123,
   "id": "16930de9",
   "metadata": {},
   "outputs": [
    {
     "data": {
      "text/plain": [
       "'abcde'"
      ]
     },
     "execution_count": 123,
     "metadata": {},
     "output_type": "execute_result"
    }
   ],
   "source": [
    "str = \"abbde\"\n",
    "str = str[:2] + \"c\" + str[3:]\n",
    "str"
   ]
  },
  {
   "cell_type": "markdown",
   "id": "e0eaede6",
   "metadata": {},
   "source": [
    "---\n",
    "### 문자열 formatting\n",
    ": %s, %d, %f"
   ]
  },
  {
   "cell_type": "code",
   "execution_count": 126,
   "id": "25389d29",
   "metadata": {},
   "outputs": [
    {
     "name": "stdout",
     "output_type": "stream",
     "text": [
      "I have 2 aplles.\n",
      "I have 2 aplles.\n"
     ]
    }
   ],
   "source": [
    "# %d : 정수형 formatting\n",
    "print(\"I have %d aplles.\" %2)\n",
    "\n",
    "number = 2\n",
    "print(\"I have %d aplles.\" %number)"
   ]
  },
  {
   "cell_type": "code",
   "execution_count": 125,
   "id": "2069545e",
   "metadata": {},
   "outputs": [
    {
     "name": "stdout",
     "output_type": "stream",
     "text": [
      "I have two apples.\n"
     ]
    }
   ],
   "source": [
    "# %s : 문자열 formatting\n",
    "print(\"I have %s apples.\"%\"two\")"
   ]
  },
  {
   "cell_type": "code",
   "execution_count": 127,
   "id": "ca949dcf",
   "metadata": {},
   "outputs": [
    {
     "name": "stdout",
     "output_type": "stream",
     "text": [
      "I have 2 apples.\n"
     ]
    }
   ],
   "source": [
    "# 혼합형 formatting\n",
    "number = 2\n",
    "fruit = \"apples\"\n",
    "\n",
    "print(\"I have %d %s.\"%(number, fruit))"
   ]
  },
  {
   "cell_type": "code",
   "execution_count": 129,
   "id": "85bb1687",
   "metadata": {},
   "outputs": [
    {
     "name": "stdout",
     "output_type": "stream",
     "text": [
      "I have 2     apples.\n",
      "I have 2 apples    .\n"
     ]
    }
   ],
   "source": [
    "# 문자열 정렬\n",
    "print(\"I have 2 %10s.\"%\"apples\")\n",
    "print(\"I have 2 %-10s.\"%\"apples\")"
   ]
  },
  {
   "cell_type": "code",
   "execution_count": 133,
   "id": "fbe49e61",
   "metadata": {},
   "outputs": [
    {
     "name": "stdout",
     "output_type": "stream",
     "text": [
      "--------------------\n",
      "3.1415\n",
      "    3.1415\n"
     ]
    }
   ],
   "source": [
    "# %f : 실수형 formatting\n",
    "print(\"-\" * 20)\n",
    "print(\"%.4f\"%3.14148)\n",
    "print(\"%10.4f\"%3.14148)"
   ]
  },
  {
   "cell_type": "markdown",
   "id": "53909d67",
   "metadata": {},
   "source": [
    "---\n",
    "## f-string 포맷팅\n",
    ":python 3.6 이상"
   ]
  },
  {
   "cell_type": "code",
   "execution_count": 134,
   "id": "6eb6537d",
   "metadata": {},
   "outputs": [
    {
     "name": "stdout",
     "output_type": "stream",
     "text": [
      "홍길동의 나이는 32살 이다.\n"
     ]
    }
   ],
   "source": [
    "name = \"홍길동\"\n",
    "age = 32\n",
    "print(f\"{name}의 나이는 {age}살 이다.\")"
   ]
  },
  {
   "cell_type": "code",
   "execution_count": 135,
   "id": "f99cf48f",
   "metadata": {},
   "outputs": [],
   "source": [
    "number = 1234567"
   ]
  },
  {
   "cell_type": "code",
   "execution_count": 144,
   "id": "b92b6aeb",
   "metadata": {},
   "outputs": [
    {
     "data": {
      "text/plain": [
       "'             1234567'"
      ]
     },
     "execution_count": 144,
     "metadata": {},
     "output_type": "execute_result"
    }
   ],
   "source": [
    "# 좌측 정렬\n",
    "f\"{number:>20}\""
   ]
  },
  {
   "cell_type": "code",
   "execution_count": 143,
   "id": "b06f440f",
   "metadata": {},
   "outputs": [
    {
     "data": {
      "text/plain": [
       "'1234567             '"
      ]
     },
     "execution_count": 143,
     "metadata": {},
     "output_type": "execute_result"
    }
   ],
   "source": [
    "# 우측 정렬\n",
    "f\"{number:<20}\""
   ]
  },
  {
   "cell_type": "code",
   "execution_count": 145,
   "id": "f22ebcc6",
   "metadata": {},
   "outputs": [
    {
     "data": {
      "text/plain": [
       "'      1234567       '"
      ]
     },
     "execution_count": 145,
     "metadata": {},
     "output_type": "execute_result"
    }
   ],
   "source": [
    "# 중앙 정렬\n",
    "f\"{number:^20}\""
   ]
  },
  {
   "cell_type": "code",
   "execution_count": 152,
   "id": "22fc95a4",
   "metadata": {},
   "outputs": [
    {
     "data": {
      "text/plain": [
       "'!!!!!!!!!!!!!1234567'"
      ]
     },
     "execution_count": 152,
     "metadata": {},
     "output_type": "execute_result"
    }
   ],
   "source": [
    "# 빈칸채우기\n",
    "f\"{number:!>20}\""
   ]
  },
  {
   "cell_type": "code",
   "execution_count": 155,
   "id": "901da01a",
   "metadata": {},
   "outputs": [
    {
     "data": {
      "text/plain": [
       "'1,234,567'"
      ]
     },
     "execution_count": 155,
     "metadata": {},
     "output_type": "execute_result"
    }
   ],
   "source": [
    "# 천 단위 쉼표\n",
    "f\"{number:,}\""
   ]
  },
  {
   "cell_type": "code",
   "execution_count": 158,
   "id": "1df916bc",
   "metadata": {},
   "outputs": [
    {
     "data": {
      "text/plain": [
       "'[-----1,234,567------]'"
      ]
     },
     "execution_count": 158,
     "metadata": {},
     "output_type": "execute_result"
    }
   ],
   "source": [
    "f\"[{number:-^20,}]\""
   ]
  },
  {
   "cell_type": "code",
   "execution_count": 162,
   "id": "6b4f939b",
   "metadata": {},
   "outputs": [
    {
     "data": {
      "text/plain": [
       "'[               3.142]'"
      ]
     },
     "execution_count": 162,
     "metadata": {},
     "output_type": "execute_result"
    }
   ],
   "source": [
    "# 실수 출력\n",
    "f_number = 3.141592\n",
    "f\"[{f_number:20.3f}]\""
   ]
  },
  {
   "cell_type": "markdown",
   "id": "9f2c9f34",
   "metadata": {},
   "source": [
    "---\n",
    "### 문자열 관련 함수"
   ]
  },
  {
   "cell_type": "code",
   "execution_count": 164,
   "id": "c7ca65b7",
   "metadata": {},
   "outputs": [
    {
     "name": "stdout",
     "output_type": "stream",
     "text": [
      "15\n",
      "3\n"
     ]
    }
   ],
   "source": [
    "# 문자 count\n",
    "str = \"I have a dream.\"\n",
    "print(len(str))\n",
    "print(str.count(\"a\"))"
   ]
  },
  {
   "cell_type": "code",
   "execution_count": null,
   "id": "1c39db71",
   "metadata": {},
   "outputs": [
    {
     "name": "stdout",
     "output_type": "stream",
     "text": [
      "5\n",
      "-1\n"
     ]
    }
   ],
   "source": [
    "# 문자 위치 알려주기 - 1 없으면 -1 출력\n",
    "print(str.find(\"e\"))\n",
    "print(str.find(\"x\"))"
   ]
  },
  {
   "cell_type": "code",
   "execution_count": null,
   "id": "757d537b",
   "metadata": {},
   "outputs": [
    {
     "name": "stdout",
     "output_type": "stream",
     "text": [
      "5\n"
     ]
    }
   ],
   "source": [
    "# 문자 위치 알려주기 - 2 없으면 에러나서 주로 find 사용\n",
    "print(str.index(\"e\"))\n",
    "# print(str.index(\"x\"))"
   ]
  },
  {
   "cell_type": "code",
   "execution_count": 170,
   "id": "9bd27b38",
   "metadata": {},
   "outputs": [
    {
     "name": "stdout",
     "output_type": "stream",
     "text": [
      "3\n"
     ]
    }
   ],
   "source": [
    "print(str.find(\"a\"))"
   ]
  },
  {
   "cell_type": "code",
   "execution_count": 175,
   "id": "bfdc88fc",
   "metadata": {},
   "outputs": [
    {
     "name": "stdout",
     "output_type": "stream",
     "text": [
      "단어 a의 1번의 위치는 3입니다.\n",
      "단어 a의 2번의 위치는 7입니다.\n",
      "단어 a의 3번의 위치는 12입니다.\n"
     ]
    }
   ],
   "source": [
    "# 특정 글자의 모든 위치를 알아내는 방법\n",
    "str = \"I have a dream.\"\n",
    "seach_word = \"a\"\n",
    "start = 0\n",
    "count = 0\n",
    "\n",
    "# 언제끝나는지 몰라서 True로 무조건 실행\n",
    "while True:\n",
    "    position = str.find(seach_word, start)\n",
    "    if position == -1:\n",
    "        break\n",
    "    count += 1\n",
    "    print(f\"단어 {seach_word}의 {count}번의 위치는 {position}입니다.\")\n",
    "    start = position + len(seach_word)"
   ]
  },
  {
   "cell_type": "code",
   "execution_count": 176,
   "id": "f35b06e7",
   "metadata": {},
   "outputs": [
    {
     "data": {
      "text/plain": [
       "'a,b,c,d,e,f,g'"
      ]
     },
     "execution_count": 176,
     "metadata": {},
     "output_type": "execute_result"
    }
   ],
   "source": [
    "# 문자열 삽입\n",
    "str = \",\"\n",
    "str.join('abcdefg')"
   ]
  },
  {
   "cell_type": "code",
   "execution_count": 181,
   "id": "99014f16",
   "metadata": {},
   "outputs": [],
   "source": [
    "# 소문자를 대문자로 바꾸기\n",
    "str = \"hi\"\n",
    "str = str.upper()"
   ]
  },
  {
   "cell_type": "code",
   "execution_count": 182,
   "id": "4a655704",
   "metadata": {},
   "outputs": [
    {
     "data": {
      "text/plain": [
       "'HI'"
      ]
     },
     "execution_count": 182,
     "metadata": {},
     "output_type": "execute_result"
    }
   ],
   "source": [
    "str"
   ]
  },
  {
   "cell_type": "code",
   "execution_count": 185,
   "id": "e430bc5a",
   "metadata": {},
   "outputs": [
    {
     "data": {
      "text/plain": [
       "'hi'"
      ]
     },
     "execution_count": 185,
     "metadata": {},
     "output_type": "execute_result"
    }
   ],
   "source": [
    "# 소문자로 바꾸기\n",
    "str.lower()"
   ]
  },
  {
   "cell_type": "code",
   "execution_count": 187,
   "id": "f6d4541e",
   "metadata": {},
   "outputs": [
    {
     "data": {
      "text/plain": [
       "'hi'"
      ]
     },
     "execution_count": 187,
     "metadata": {},
     "output_type": "execute_result"
    }
   ],
   "source": [
    "# 왼쪽 공백 지우기\n",
    "str = \"      hi\"\n",
    "str.lstrip()"
   ]
  },
  {
   "cell_type": "code",
   "execution_count": 188,
   "id": "a20669ab",
   "metadata": {},
   "outputs": [
    {
     "data": {
      "text/plain": [
       "'hi'"
      ]
     },
     "execution_count": 188,
     "metadata": {},
     "output_type": "execute_result"
    }
   ],
   "source": [
    "# 오른쪽 공백 지우기\n",
    "str = \"hi             \"\n",
    "str.rstrip()"
   ]
  },
  {
   "cell_type": "code",
   "execution_count": 189,
   "id": "ac91439a",
   "metadata": {},
   "outputs": [
    {
     "data": {
      "text/plain": [
       "'hi'"
      ]
     },
     "execution_count": 189,
     "metadata": {},
     "output_type": "execute_result"
    }
   ],
   "source": [
    "# 좌우 공백 지우기\n",
    "str = \"        hi         \"\n",
    "# str.lstrip().rstrip() # .만 찍으면 메소드를 이어서 쓸 수 있음\n",
    "str.strip()"
   ]
  },
  {
   "cell_type": "code",
   "execution_count": 190,
   "id": "f59dba56",
   "metadata": {},
   "outputs": [
    {
     "data": {
      "text/plain": [
       "'Life is too short to be unhappy.'"
      ]
     },
     "execution_count": 190,
     "metadata": {},
     "output_type": "execute_result"
    }
   ],
   "source": [
    "# 문자열 바꾸기\n",
    "str = 'Life is too short to be happy.'\n",
    "str.replace(\"happy\", \"unhappy\")"
   ]
  },
  {
   "cell_type": "code",
   "execution_count": 194,
   "id": "f20df9d5",
   "metadata": {},
   "outputs": [
    {
     "data": {
      "text/plain": [
       "'Life'"
      ]
     },
     "execution_count": 194,
     "metadata": {},
     "output_type": "execute_result"
    }
   ],
   "source": [
    "# 문자열 나누기\n",
    "str = 'Life is too short to be happy.'\n",
    "list01 = str.split()\n",
    "type(list01)\n",
    "list01[0]"
   ]
  },
  {
   "cell_type": "code",
   "execution_count": 195,
   "id": "27de3c71",
   "metadata": {},
   "outputs": [
    {
     "data": {
      "text/plain": [
       "['a', 'b', 'c', 'd']"
      ]
     },
     "execution_count": 195,
     "metadata": {},
     "output_type": "execute_result"
    }
   ],
   "source": [
    "str = \"a:b:c:d\"\n",
    "str.split(\":\")"
   ]
  },
  {
   "cell_type": "markdown",
   "id": "74673f0f",
   "metadata": {},
   "source": [
    "### 날짜형 변환"
   ]
  },
  {
   "cell_type": "code",
   "execution_count": 196,
   "id": "6a15c52f",
   "metadata": {},
   "outputs": [],
   "source": [
    "from datetime import datetime, timedelta"
   ]
  },
  {
   "cell_type": "code",
   "execution_count": 197,
   "id": "7d89b5bf",
   "metadata": {},
   "outputs": [
    {
     "name": "stdout",
     "output_type": "stream",
     "text": [
      "2020-12-22 21:00:00\n"
     ]
    }
   ],
   "source": [
    "time1 = datetime(2020, 12,22,21,0,0,0,)\n",
    "print(time1)"
   ]
  },
  {
   "cell_type": "code",
   "execution_count": 198,
   "id": "332cc748",
   "metadata": {},
   "outputs": [
    {
     "data": {
      "text/plain": [
       "datetime.datetime"
      ]
     },
     "execution_count": 198,
     "metadata": {},
     "output_type": "execute_result"
    }
   ],
   "source": [
    "type(time1)"
   ]
  },
  {
   "cell_type": "code",
   "execution_count": 200,
   "id": "0194c829",
   "metadata": {},
   "outputs": [
    {
     "name": "stdout",
     "output_type": "stream",
     "text": [
      "2025-05-12 15:12:09.235559\n",
      "1601 days, 18:12:09.235559\n"
     ]
    }
   ],
   "source": [
    "# 날짜 계산하기\n",
    "time2 = datetime.now()\n",
    "print(time2)\n",
    "print(time2 - time1)"
   ]
  },
  {
   "cell_type": "code",
   "execution_count": 203,
   "id": "bbe4569e",
   "metadata": {},
   "outputs": [
    {
     "name": "stdout",
     "output_type": "stream",
     "text": [
      "1601 일\n",
      "65529 초\n"
     ]
    }
   ],
   "source": [
    "print((time2 - time1).days, \"일\")\n",
    "print((time2 - time1).seconds, \"초\")"
   ]
  },
  {
   "cell_type": "code",
   "execution_count": 204,
   "id": "eda800ba",
   "metadata": {},
   "outputs": [
    {
     "data": {
      "text/plain": [
       "38442"
      ]
     },
     "execution_count": 204,
     "metadata": {},
     "output_type": "execute_result"
    }
   ],
   "source": [
    "# 시간으로 확인하기\n",
    "((time2 - time1).days * 24) + math.floor((time2 - time1).seconds / 60 / 60)"
   ]
  },
  {
   "cell_type": "code",
   "execution_count": 206,
   "id": "ac1b3c0b",
   "metadata": {},
   "outputs": [
    {
     "name": "stdout",
     "output_type": "stream",
     "text": [
      "현재 시간부터 5일 뒤: 2025-05-17 15:12:09.235559\n",
      "현재 시간부터 3일 전: 2025-05-09 15:12:09.235559\n",
      "현재 시간부터 1일 뒤의 2시간 전: 2025-05-13 13:12:09.235559\n"
     ]
    }
   ],
   "source": [
    "# 특정 날짜로부터 시간 계산\n",
    "print(\"현재 시간부터 5일 뒤:\", time2 + timedelta(days=5))\n",
    "print(\"현재 시간부터 3일 전:\", time2 + timedelta(days=-3))\n",
    "print(\"현재 시간부터 1일 뒤의 2시간 전:\", time2 + timedelta(days=1, hours=-2))"
   ]
  },
  {
   "cell_type": "markdown",
   "id": "6542c6c0",
   "metadata": {},
   "source": [
    "### 올해 남은 일자 확인하기"
   ]
  },
  {
   "cell_type": "code",
   "execution_count": 218,
   "id": "930fb712",
   "metadata": {},
   "outputs": [
    {
     "name": "stdout",
     "output_type": "stream",
     "text": [
      "2025\n",
      "233 일\n"
     ]
    }
   ],
   "source": [
    "# 현재 년도\n",
    "timeOnYear = datetime.now().date().year\n",
    "print(timeOnYear)\n",
    "\n",
    "endDate = datetime(timeOnYear, 12, 31, 23, 59, 59)\n",
    "\n",
    "print((endDate - datetime.now()).days, \"일\")"
   ]
  },
  {
   "cell_type": "code",
   "execution_count": null,
   "id": "a415794a",
   "metadata": {},
   "outputs": [],
   "source": []
  }
 ],
 "metadata": {
  "kernelspec": {
   "display_name": "base",
   "language": "python",
   "name": "python3"
  },
  "language_info": {
   "codemirror_mode": {
    "name": "ipython",
    "version": 3
   },
   "file_extension": ".py",
   "mimetype": "text/x-python",
   "name": "python",
   "nbconvert_exporter": "python",
   "pygments_lexer": "ipython3",
   "version": "3.12.7"
  }
 },
 "nbformat": 4,
 "nbformat_minor": 5
}
