{
 "cells": [
  {
   "cell_type": "markdown",
   "id": "8b33f456",
   "metadata": {},
   "source": [
    "### 시뮬레이션 (몬테카를로 시뮬레이션)\n",
    ": 자료가 없을 경우 난수를 통해서 가설 증명\n",
    "\n",
    "#### 동전의 앞면과 뒷면이 나올 확률이 같다는 것을 증명"
   ]
  },
  {
   "cell_type": "code",
   "execution_count": 1,
   "id": "70eea3a5",
   "metadata": {},
   "outputs": [],
   "source": [
    "import random"
   ]
  },
  {
   "cell_type": "code",
   "execution_count": 42,
   "id": "969c31b9",
   "metadata": {},
   "outputs": [
    {
     "data": {
      "text/plain": [
       "1"
      ]
     },
     "execution_count": 42,
     "metadata": {},
     "output_type": "execute_result"
    }
   ],
   "source": [
    "random.randint(1,2)"
   ]
  },
  {
   "cell_type": "code",
   "execution_count": 70,
   "id": "1b11b3b4",
   "metadata": {},
   "outputs": [
    {
     "name": "stdout",
     "output_type": "stream",
     "text": [
      "앞면\n"
     ]
    }
   ],
   "source": [
    "# 난수를 통한 방법 알아보기\n",
    "\n",
    "x = random.randint(1,2)\n",
    "if x == 1:\n",
    "    result = \"앞면\"\n",
    "else:\n",
    "    result = \"뒷면\"\n",
    "\n",
    "print(result)"
   ]
  },
  {
   "cell_type": "code",
   "execution_count": 1,
   "id": "bce3b658",
   "metadata": {},
   "outputs": [],
   "source": [
    "import random"
   ]
  },
  {
   "cell_type": "code",
   "execution_count": 15,
   "id": "5c2950bd",
   "metadata": {},
   "outputs": [],
   "source": [
    "# 동전의 앞면과 뒷면 결과값을 함수로 만들기\n",
    "def coinF(n):\n",
    "    front = 0\n",
    "    back = 0\n",
    "    for i in range(1, n+1):\n",
    "        i += 1\n",
    "        x = random.randint(1,2)\n",
    "        if x == 1:\n",
    "            front += 1\n",
    "        else:\n",
    "            back += 1\n",
    "    print(f\"앞면은 {front:_>6}번, 뒷면은 {back:_>6}번 나왔습니다\")"
   ]
  },
  {
   "cell_type": "code",
   "execution_count": 26,
   "id": "a22c7314",
   "metadata": {},
   "outputs": [
    {
     "name": "stdout",
     "output_type": "stream",
     "text": [
      "앞면은 _____2번, 뒷면은 _____8번 나왔습니다\n",
      "앞면은 ____54번, 뒷면은 ____46번 나왔습니다\n",
      "앞면은 ___499번, 뒷면은 ___501번 나왔습니다\n",
      "앞면은 __4965번, 뒷면은 __5035번 나왔습니다\n",
      "앞면은 _49764번, 뒷면은 _50236번 나왔습니다\n",
      "앞면은 499243번, 뒷면은 500757번 나왔습니다\n"
     ]
    }
   ],
   "source": [
    "coinF(10)\n",
    "coinF(100)\n",
    "coinF(1000)\n",
    "coinF(10000)\n",
    "coinF(100000)\n",
    "coinF(1000000)"
   ]
  },
  {
   "cell_type": "markdown",
   "id": "78358c76",
   "metadata": {},
   "source": [
    "### 주사위 번호가 나올 확률이 같다는 것을 증명"
   ]
  },
  {
   "cell_type": "code",
   "execution_count": 9,
   "id": "ee31f9c9",
   "metadata": {},
   "outputs": [],
   "source": [
    "import random"
   ]
  },
  {
   "cell_type": "code",
   "execution_count": 10,
   "id": "fb0d1137",
   "metadata": {},
   "outputs": [],
   "source": [
    "def dice(n):\n",
    "    dice = [0,0,0,0,0,0]\n",
    "\n",
    "    for i in range(1, n+1):\n",
    "        x = random.randint(1,6)      \n",
    "        dice[x-1] += 1\n",
    "    print(f\"{n}번 시도 결과 ==>\")\n",
    "    for i in range(0, 5+1, 3):\n",
    "        print(f\"{i+1} : {dice[i]} | {i+2} : {dice[i+1]} | {i+3} : {dice[i+2]}\")\n",
    "    print(\"-\" * 60)"
   ]
  },
  {
   "cell_type": "code",
   "execution_count": 11,
   "id": "e9009eeb",
   "metadata": {},
   "outputs": [
    {
     "name": "stdout",
     "output_type": "stream",
     "text": [
      "10번 시도 결과 ==>\n",
      "1 : 1 | 2 : 1 | 3 : 1\n",
      "4 : 3 | 5 : 2 | 6 : 2\n",
      "------------------------------------------------------------\n",
      "100번 시도 결과 ==>\n",
      "1 : 16 | 2 : 16 | 3 : 16\n",
      "4 : 21 | 5 : 17 | 6 : 14\n",
      "------------------------------------------------------------\n",
      "1000번 시도 결과 ==>\n",
      "1 : 146 | 2 : 170 | 3 : 177\n",
      "4 : 185 | 5 : 175 | 6 : 147\n",
      "------------------------------------------------------------\n",
      "10000번 시도 결과 ==>\n",
      "1 : 1643 | 2 : 1645 | 3 : 1739\n",
      "4 : 1651 | 5 : 1612 | 6 : 1710\n",
      "------------------------------------------------------------\n",
      "100000번 시도 결과 ==>\n",
      "1 : 16557 | 2 : 16699 | 3 : 16456\n",
      "4 : 16680 | 5 : 16747 | 6 : 16861\n",
      "------------------------------------------------------------\n",
      "1000000번 시도 결과 ==>\n",
      "1 : 166764 | 2 : 166417 | 3 : 166398\n",
      "4 : 166760 | 5 : 167264 | 6 : 166397\n",
      "------------------------------------------------------------\n"
     ]
    }
   ],
   "source": [
    "dice(10)\n",
    "dice(100)\n",
    "dice(1000)\n",
    "dice(10000)\n",
    "dice(100000)\n",
    "dice(1000000)"
   ]
  },
  {
   "cell_type": "code",
   "execution_count": null,
   "id": "48260de5",
   "metadata": {},
   "outputs": [],
   "source": []
  }
 ],
 "metadata": {
  "kernelspec": {
   "display_name": "base",
   "language": "python",
   "name": "python3"
  },
  "language_info": {
   "codemirror_mode": {
    "name": "ipython",
    "version": 3
   },
   "file_extension": ".py",
   "mimetype": "text/x-python",
   "name": "python",
   "nbconvert_exporter": "python",
   "pygments_lexer": "ipython3",
   "version": "3.12.7"
  }
 },
 "nbformat": 4,
 "nbformat_minor": 5
}
