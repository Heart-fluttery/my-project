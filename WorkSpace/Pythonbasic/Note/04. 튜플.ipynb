{
 "cells": [
  {
   "cell_type": "markdown",
   "id": "3c9a29f0",
   "metadata": {},
   "source": [
    "### 튜플(Tuple) 자료형\n",
    ": 튜플은 다음과 같은 점을 제외하곤 리스트와 거의 비슷하다.\n",
    "- (와)로 사용\n",
    "- 튜플은 값을 변경할 수 없다."
   ]
  },
  {
   "cell_type": "code",
   "execution_count": null,
   "id": "bfddd52c",
   "metadata": {},
   "outputs": [],
   "source": [
    "# Tuple의 선언\n",
    "var01 = ()\n",
    "var02 = (1,)\n",
    "var03 = (1,2,3)\n",
    "var04 = 1,2,3\n",
    "var05 = ('a','b',('ab','ad'))"
   ]
  },
  {
   "cell_type": "code",
   "execution_count": null,
   "id": "d25742c6",
   "metadata": {},
   "outputs": [
    {
     "data": {
      "text/plain": [
       "'ab'"
      ]
     },
     "metadata": {},
     "output_type": "display_data"
    }
   ],
   "source": [
    "var05[-1][0]"
   ]
  },
  {
   "cell_type": "markdown",
   "id": "cfadf7a6",
   "metadata": {},
   "source": [
    "### Tuple 값 변경\n",
    ": Tuple에 List를 추가하여 사용"
   ]
  },
  {
   "cell_type": "code",
   "execution_count": null,
   "id": "b3cfef36",
   "metadata": {},
   "outputs": [
    {
     "name": "stdout",
     "output_type": "stream",
     "text": [
      "([100, 2], 3, 4)\n"
     ]
    }
   ],
   "source": [
    "tuple01 = ([1,2],3,4)\n",
    "tuple01[0][0] = 100\n",
    "print(tuple01)"
   ]
  }
 ],
 "metadata": {
  "language_info": {
   "name": "python"
  }
 },
 "nbformat": 4,
 "nbformat_minor": 5
}
