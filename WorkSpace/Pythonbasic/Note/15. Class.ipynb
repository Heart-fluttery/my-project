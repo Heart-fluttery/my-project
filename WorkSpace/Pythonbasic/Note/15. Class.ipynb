{
 "cells": [
  {
   "cell_type": "markdown",
   "id": "99f5197c",
   "metadata": {},
   "source": [
    "### Class"
   ]
  },
  {
   "cell_type": "code",
   "execution_count": 1,
   "id": "2b6604de",
   "metadata": {},
   "outputs": [],
   "source": [
    "class Calc():\n",
    "    def setdata(self, first, second):\n",
    "        self.first = first\n",
    "        self.second = second\n",
    "    def sum(self):\n",
    "        return self.first + self.second\n",
    "    def mul(self):\n",
    "        return self.first * self.second\n",
    "    def sub(self):\n",
    "        return self.first - self.second\n",
    "    def div(self):\n",
    "        return self.first / self.second"
   ]
  },
  {
   "cell_type": "code",
   "execution_count": 4,
   "id": "6dbbabaa",
   "metadata": {},
   "outputs": [
    {
     "name": "stdout",
     "output_type": "stream",
     "text": [
      "덧셈 : 6\n",
      "뺄셈 : 2\n",
      "곱셈 : 8\n",
      "나눗셈 : 2.0\n"
     ]
    }
   ],
   "source": [
    "calc01 = Calc()\n",
    "calc01.setdata(4, 2)\n",
    "print(f\"덧셈 : {calc01.sum()}\")\n",
    "print(f\"뺄셈 : {calc01.sub()}\")\n",
    "print(f\"곱셈 : {calc01.mul()}\")\n",
    "print(f\"나눗셈 : {calc01.div()}\")"
   ]
  },
  {
   "cell_type": "code",
   "execution_count": null,
   "id": "7723f961",
   "metadata": {},
   "outputs": [],
   "source": [
    "class Calc():\n",
    "    # Property\n",
    "    first = 0\n",
    "    second = 0\n",
    "\n",
    "    # Constructor\n",
    "    def __init__(self, first, second):\n",
    "        self.first = first\n",
    "        self.second = second\n",
    "\n",
    "    # Method\n",
    "    def sum(self):\n",
    "        return self.first + self.second\n",
    "    \n",
    "    def mul(self):\n",
    "        return self.first * self.second\n",
    "    \n",
    "    def sub(self):\n",
    "        return self.first - self.second\n",
    "    \n",
    "    def div(self):\n",
    "        return self.first / self.second"
   ]
  },
  {
   "cell_type": "code",
   "execution_count": 5,
   "id": "e66c799e",
   "metadata": {},
   "outputs": [
    {
     "name": "stdout",
     "output_type": "stream",
     "text": [
      "덧셈 : 6\n",
      "뺄셈 : 2\n",
      "곱셈 : 8\n",
      "나눗셈 : 2.0\n"
     ]
    }
   ],
   "source": [
    "calc01.setdata(4, 2)\n",
    "print(f\"덧셈 : {calc01.sum()}\")\n",
    "print(f\"뺄셈 : {calc01.sub()}\")\n",
    "print(f\"곱셈 : {calc01.mul()}\")\n",
    "print(f\"나눗셈 : {calc01.div()}\")"
   ]
  },
  {
   "cell_type": "markdown",
   "id": "ae92ce45",
   "metadata": {},
   "source": [
    "---\n",
    "### 상속"
   ]
  },
  {
   "cell_type": "code",
   "execution_count": 6,
   "id": "d0ab8675",
   "metadata": {},
   "outputs": [],
   "source": [
    "class Add():\n",
    "    num1 = 0\n",
    "    num2 = 0\n",
    "\n",
    "    def __init__(self, num1, num2):\n",
    "        self.num1 = num1\n",
    "        self.num2 = num2\n",
    "\n",
    "    def add(self):\n",
    "        return self.num1 + self.num2"
   ]
  },
  {
   "cell_type": "code",
   "execution_count": 8,
   "id": "b14616fc",
   "metadata": {},
   "outputs": [
    {
     "name": "stdout",
     "output_type": "stream",
     "text": [
      "3\n"
     ]
    }
   ],
   "source": [
    "addition = Add(1, 2)\n",
    "print(addition.add())"
   ]
  },
  {
   "cell_type": "code",
   "execution_count": 12,
   "id": "694c3a15",
   "metadata": {},
   "outputs": [],
   "source": [
    "class Sub(Add):\n",
    "    num1 = 0\n",
    "    num2 = 0\n",
    "\n",
    "    def __init__(self, num1, num2):\n",
    "        self.num1 = num1\n",
    "        self.num2 = num2\n",
    "\n",
    "    def sub(self):\n",
    "        return self.num1 - self.num2"
   ]
  },
  {
   "cell_type": "code",
   "execution_count": 13,
   "id": "8a018ce9",
   "metadata": {},
   "outputs": [
    {
     "name": "stdout",
     "output_type": "stream",
     "text": [
      "-1\n",
      "5\n"
     ]
    }
   ],
   "source": [
    "subtraction = Sub(2, 3)\n",
    "print(subtraction.sub())\n",
    "print(subtraction.add())"
   ]
  },
  {
   "cell_type": "code",
   "execution_count": null,
   "id": "66e5c96c",
   "metadata": {},
   "outputs": [],
   "source": []
  }
 ],
 "metadata": {
  "kernelspec": {
   "display_name": "base",
   "language": "python",
   "name": "python3"
  },
  "language_info": {
   "codemirror_mode": {
    "name": "ipython",
    "version": 3
   },
   "file_extension": ".py",
   "mimetype": "text/x-python",
   "name": "python",
   "nbconvert_exporter": "python",
   "pygments_lexer": "ipython3",
   "version": "3.12.7"
  }
 },
 "nbformat": 4,
 "nbformat_minor": 5
}
